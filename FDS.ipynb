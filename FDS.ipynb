{
 "cells": [
  {
   "cell_type": "code",
   "execution_count": 135,
   "id": "2c255733",
   "metadata": {
    "ExecuteTime": {
     "end_time": "2023-01-22T14:27:04.071952Z",
     "start_time": "2023-01-22T14:27:04.037946Z"
    },
    "pycharm": {
     "name": "#%%\n"
    }
   },
   "outputs": [],
   "source": [
    "import pandas as pd\n",
    "import numpy as np\n",
    "import statsmodels.api as sm\n",
    "\n",
    "import seaborn as sns\n",
    "from scipy import stats\n",
    "\n",
    "import os\n",
    "import pickle\n",
    "import matplotlib.pyplot as plt\n",
    "from tqdm import tqdm\n",
    "import time\n",
    "import warnings\n",
    "from sklearn.metrics import precision_recall_fscore_support\n",
    "from sklearn.metrics import recall_score, precision_score, accuracy_score\n",
    "import itertools\n",
    "from sklearn.metrics import confusion_matrix\n",
    "warnings.filterwarnings('ignore')"
   ]
  },
  {
   "cell_type": "markdown",
   "id": "ad1a85ce",
   "metadata": {
    "pycharm": {
     "name": "#%% md\n"
    }
   },
   "source": [
    "# implementations"
   ]
  },
  {
   "cell_type": "code",
   "execution_count": 137,
   "id": "5760e9cc",
   "metadata": {
    "ExecuteTime": {
     "end_time": "2023-01-22T14:27:05.666759Z",
     "start_time": "2023-01-22T14:27:05.636814Z"
    },
    "pycharm": {
     "name": "#%%\n"
    }
   },
   "outputs": [],
   "source": [
    "def data_loader(dataset, genome_path, pheno_path, data_path):\n",
    "    if dataset == 'human1000':\n",
    "        gen = pd.read_csv(genome_path, sep ='\\t')\n",
    "        gen = gen.drop(['FID', 'PAT', 'MAT', 'SEX', 'PHENOTYPE'], axis = 1).set_index('IID')\n",
    "        gen.columns = ['SNP'+str(i+1) for i in range(gen.shape[1])]\n",
    "\n",
    "        phey = pd.read_csv(pheno_path, header=None, index_col=0)\n",
    "        phey[1] = phey[1].replace([1,-9],0)\n",
    "        phey[1] = phey[1].replace([2],1)\n",
    "\n",
    "        gen['y']=phey[1]\n",
    "        \n",
    "        if not os.path.isdir(data_path):\n",
    "            os.makedirs(data_path)\n",
    "            \n",
    "        gen.to_csv(data_path +'/dataset.csv')\n",
    "        \n",
    "    elif dataset == 'openSNP':\n",
    "        gen = pd.read_csv('../data/eyecolor/gwas.csv')\n",
    "    \n",
    "    else:\n",
    "        print('not default dataset')\n",
    "    \n",
    "    return gen"
   ]
  },
  {
   "cell_type": "code",
   "execution_count": 138,
   "id": "e2982945",
   "metadata": {
    "ExecuteTime": {
     "end_time": "2023-01-22T14:27:07.364339Z",
     "start_time": "2023-01-22T14:27:07.346003Z"
    },
    "pycharm": {
     "name": "#%%\n"
    }
   },
   "outputs": [],
   "source": [
    "def obtain_label(data, thresholds):\n",
    "    \"\"\"\n",
    "    Given the p-values for each iteration and the thresholds\n",
    "    Return the class label for each iteration\n",
    "    \"\"\"\n",
    "    data_new = pd.DataFrame(columns=data.columns)\n",
    "    data_new['SNP'] = data['SNP']\n",
    "   # data_new['group'] = data['group']\n",
    "    for col in list(data_new.columns)[1:]:\n",
    "        data_new[col] = pd.cut(data[col], bins=[0] + list(thresholds.values())[:-1] + [float('inf')],\n",
    "                    labels=list(thresholds.keys()))\n",
    "    return data_new\n",
    "    "
   ]
  },
  {
   "cell_type": "code",
   "execution_count": 139,
   "id": "a0a2b402",
   "metadata": {
    "ExecuteTime": {
     "end_time": "2023-01-22T14:27:08.093544Z",
     "start_time": "2023-01-22T14:27:08.079749Z"
    },
    "pycharm": {
     "name": "#%%\n"
    }
   },
   "outputs": [],
   "source": [
    "def get_pvalues(data):\n",
    "    #df = pd.DataFrame({'x': x, 'y': y})\n",
    "    p_value=[]\n",
    "   # betas = []\n",
    "    for i in range(data.shape[1]-2):\n",
    "        df = pd.DataFrame({'x': data.iloc[:,i], 'y': data['y']})\n",
    "        df['intecept']=1\n",
    "        try:\n",
    "            logit_model=sm.Logit(df['y'],df[['x','intecept']],missing = 'drop')\n",
    "            result=logit_model.fit(disp=0)\n",
    "            p_value.append(result.pvalues[0])\n",
    "         #   betas.append(result.params[0])\n",
    "        except:\n",
    "            p_value.append(2)\n",
    "         #   betas.append(0)\n",
    "    return np.array(p_value)"
   ]
  },
  {
   "cell_type": "code",
   "execution_count": 140,
   "id": "1ef222bf",
   "metadata": {
    "ExecuteTime": {
     "end_time": "2023-01-22T14:27:08.696177Z",
     "start_time": "2023-01-22T14:27:08.625520Z"
    },
    "pycharm": {
     "name": "#%%\n"
    }
   },
   "outputs": [],
   "source": [
    "def partition(dataset, data, scenario, seed):\n",
    "    case_ = data['y'] == 1\n",
    "    control_ = data['y'] == 0\n",
    "    \n",
    "    if dataset == 'human1000':\n",
    "        if scenario == '3' or secnario == '5' :\n",
    "            data_A_case = data[case_].sample(300, random_state = seed)\n",
    "            data_A_control = data[control_].sample(900, random_state = seed)\n",
    "\n",
    "            data_B_case =  data[case_].loc[~ data[case_].index.isin(data_A_case.index)]\n",
    "            data_B_control =  data[control_].loc[~ data[control_].index.isin(data_A_control.index)]\n",
    "        elif scenario == '4':\n",
    "            data_A_case = data[case_].sample(450, random_state = seed)\n",
    "            data_A_control = data[control_].sample(750, random_state = seed)\n",
    "\n",
    "            data_B_case =  data[case_].loc[~ data[case_].index.isin(data_A_case.index)]\n",
    "            data_B_control =  data[control_].loc[~ data[control_].index.isin(data_A_control.index)]\n",
    "            \n",
    "        else :\n",
    "            ## when both are balanced or when party A (case:control= 600:600) and party B (case:control=300:900)\n",
    "            data_A_case = data[case_].sample(600, random_state = seed)\n",
    "            data_A_control = data[control_].sample(600, random_state = seed)\n",
    "\n",
    "            data_B_case =  data[case_].loc[~ data[case_].index.isin(data_A_case.index)]\n",
    "            data_B_control =  data[control_].loc[~ data[control_].index.isin(data_A_control.index)]\n",
    "\n",
    "        data_A = pd.concat([data_A_case, data_A_control]).sample(len(data_A_case) + len(data_A_control))\n",
    "        data_B = pd.concat([data_B_case, data_B_control]).sample(len(data_B_case) + len(data_B_control))\n",
    "    elif dataset == 'opensnp':\n",
    "        data_A_case = data[case_].sample(200, random_state = seed)\n",
    "        data_A_control = data[control_].sample(200, random_state = seed)\n",
    "        \n",
    "        data_B_case =  data[case_].loc[~ data[case_].index.isin(data_A_case.index)]\n",
    "        data_B_control =  data[control_].loc[~ data[control_].index.isin(data_A_control.index)]\n",
    "        \n",
    "        data_A = pd.concat([data_A_case, data_A_control]).sample(len(data_A_case) + len(data_A_control))\n",
    "        data_B = pd.concat([data_B_case, data_B_control]).sample(len(data_B_case) + len(data_B_control))\n",
    "    \n",
    "    else:\n",
    "        print('not default dataset')\n",
    "    \n",
    "    return data_A, data_B"
   ]
  },
  {
   "cell_type": "code",
   "execution_count": 141,
   "id": "e54f8d77",
   "metadata": {
    "ExecuteTime": {
     "end_time": "2023-01-22T14:27:09.432893Z",
     "start_time": "2023-01-22T14:27:09.424452Z"
    },
    "pycharm": {
     "name": "#%%\n"
    }
   },
   "outputs": [],
   "source": [
    "def save_results(res, data_path, file_name):\n",
    "    if not os.path.isdir(data_path):\n",
    "        os.makedirs(data_path)\n",
    "    \n",
    "    if isinstance(res, pd.DataFrame):\n",
    "        res.to_csv(data_path + file_name + '.csv', index = False)\n",
    "    else:\n",
    "         with open(data_path + file_name + '.pkl', 'wb') as f:\n",
    "                pickle.dump(res, f)\n",
    "        "
   ]
  },
  {
   "cell_type": "code",
   "execution_count": 142,
   "id": "c6300bc2",
   "metadata": {
    "ExecuteTime": {
     "end_time": "2023-01-22T14:27:10.240201Z",
     "start_time": "2023-01-22T14:27:10.220006Z"
    },
    "pycharm": {
     "name": "#%%\n"
    }
   },
   "outputs": [],
   "source": [
    "class process_1():\n",
    "    def __init__(self, data_A, data_B):\n",
    "        self.data_A = data_A\n",
    "        self.data_B = data_B\n",
    "    \n",
    "    def fit(self):\n",
    "        p_A = pd.DataFrame({'SNP': data_A.columns[:-2]})\n",
    "        p_B = pd.DataFrame({'SNP': data_B.columns[:-2]})\n",
    "        \n",
    "        p_A['p_value'] = get_pvalues(data_A)\n",
    "        p_B['p_value'] = get_pvalues(data_B)\n",
    "        \n",
    "        return p_A, p_B\n",
    "    \n",
    "    def predict(self, p_A, p_B, thresholds):\n",
    "        \n",
    "        p_A_label = obtain_label(p_A, thresholds)\n",
    "        p_B_label = obtain_label(p_B, thresholds)\n",
    "        \n",
    "        insig_A = set(p_A_label[p_A_label['p_value'] ==0]['SNP'])\n",
    "        insig_B = set(p_B_label[p_B_label['p_value'] ==0]['SNP'])\n",
    "        \n",
    "        insig_list = list(insig_A.intersection(insig_B))\n",
    "        sig_list = list(p_A_label[~p_A_label.set_index('SNP').index.isin(insig_list)]['SNP'])\n",
    "        \n",
    "        p_A_label['predict_label']= [1 for _ in range(len(p_A_label))]\n",
    "        p_A_label['predict_label'].mask(p_A_label.set_index('SNP').index.isin(insig_list), 0, inplace = True)\n",
    "        \n",
    "        p_B_label['predict_label']= [1 for _ in range(len(p_B_label))]\n",
    "        p_B_label['predict_label'].mask(p_B_label.set_index('SNP').index.isin(insig_list), 0, inplace = True)\n",
    "        \n",
    "        return p_A_label, p_B_label, insig_list, sig_list\n",
    "    \n",
    "    def evaluate(self, gt_pval, p_A_label):\n",
    "        true_label = gt_pval['Label']\n",
    "        predict_label = p_A_label['predict_label']\n",
    "        \n",
    "        tn, fp, fn, tp = confusion_matrix(true_label, predict_label).ravel()\n",
    "    \n",
    "        return fn, tn"
   ]
  },
  {
   "cell_type": "code",
   "execution_count": 143,
   "id": "3a8cba4a",
   "metadata": {
    "ExecuteTime": {
     "end_time": "2023-01-22T14:27:12.723080Z",
     "start_time": "2023-01-22T14:27:12.695909Z"
    },
    "pycharm": {
     "name": "#%%\n"
    }
   },
   "outputs": [],
   "source": [
    "class process_2():\n",
    "    \n",
    "    def __init__(self, data_A, data_B, insig_list, nss, seeds):\n",
    "\n",
    "        self.data_A = data_A\n",
    "        self.data_B = data_B\n",
    "        self.insig_list = insig_list\n",
    "        self.nss = nss\n",
    "        self.seeds = seeds\n",
    "\n",
    "\n",
    "    def iterative_uni(self, data1, data2):\n",
    "        \"\"\"\n",
    "        uniformly sampling records and get inference\n",
    "        nss: iteratiton rounds\n",
    "        seed: random state\n",
    "        \"\"\"\n",
    "        p_value = np.zeros((data1.shape[1]-2,len(self.nss)))\n",
    "\n",
    "        selected_uni = []\n",
    "\n",
    "        for idn, n in enumerate(self.nss):\n",
    "            df_uni1 = data1.sample(n, random_state = self.seeds[idn])\n",
    "            df_uni2 = data2.sample(n, random_state = self.seeds[idn])\n",
    "            \n",
    "            df_uni = pd.concat([df_uni1, df_uni2], axis = 0)\n",
    "            df_uni = df_uni.sample(len(df_uni))\n",
    "    \n",
    "            p_value[:,idn] = get_pvalues(df_uni)\n",
    "\n",
    "            selected_uni.append(list(df_uni1.index))\n",
    "\n",
    "\n",
    "        return p_value, selected_uni\n",
    "    \n",
    "    def ensembleVote(self, data):\n",
    "        \"\"\"\n",
    "        Given the class label for each iteration\n",
    "        Return the class label via majority voting \n",
    "        \"\"\"\n",
    "        data_new = pd.DataFrame(columns=data.columns)\n",
    "        data_new['SNP'] = data['SNP']\n",
    "       # data_new['p_value'] = data['p_value']\n",
    "       # data_new['group'] = data['group']\n",
    "\n",
    "        for idn in range(len(self.nss)):\n",
    "            if idn == 0:\n",
    "                data_new[str(idn+1)] = data[str(idn+1)]\n",
    "            else:\n",
    "                iters = [str(i+1) for i in range(idn+1)]\n",
    "                u = data[iters].mode(axis=1).iloc[:, 0]\n",
    "\n",
    "                #TODO: figure out how to break the tie\n",
    "\n",
    "                #if len(u.columns) > 1:\n",
    "                 #   u = u.iloc[:, 0].where(u.iloc[:, 1:].isna().all(axis=1))\n",
    "                data_new[str(idn+1)] = u\n",
    "\n",
    "       # data_new.fillna()\n",
    "\n",
    "        return data_new\n",
    "\n",
    "    def fit(self):\n",
    "        \n",
    "        \"\"\"\n",
    "        uniformly sampling records and get inference\n",
    "        nss: list of subset size\n",
    "        seed: random state\n",
    "        \"\"\"\n",
    "        \n",
    "        # filter out the insig snps from step 1\n",
    "        data_A_sub = self.data_A.loc[:,~self.data_A.columns.isin(self.insig_list)]\n",
    "        data_B_sub = self.data_B.loc[:,~self.data_B.columns.isin(self.insig_list)]\n",
    "                \n",
    "       # data_sub = pd.concat([data_A_sub, data_B_sub], axis = 0)\n",
    "       # data_sub = data_sub.sample(len(data_sub))\n",
    "        \n",
    "        # obtain the p values of each iteration for the remaning SNPs \n",
    "        return self.iterative_uni(data_A_sub, data_B_sub)\n",
    "\n",
    "    def predict(self, p_value_uni, column_list, thresholds):\n",
    "        # get label for each iteration \n",
    "        \n",
    "        p_values = pd.DataFrame({'SNP': column_list})\n",
    "        \n",
    "        for idn, n in enumerate(nss): \n",
    "            p_uni_sample= dict(zip(column_list, p_value_uni[:,idn]))\n",
    "            \n",
    "            p_values[str(idn+1)] = p_values['SNP'].map(p_uni_sample)\n",
    "\n",
    "    \n",
    "        iter_label = obtain_label(p_values, thresholds)\n",
    "        \n",
    "        # get the label at each iteration via voting\n",
    "        vote_label = self.ensembleVote(iter_label)\n",
    "        return p_values, iter_label, vote_label\n",
    "    \n",
    "    \n",
    "    def evaluate_process2(self, gt_pval, vote_label):\n",
    "        true_label = gt_pval[~gt_pval.set_index('SNP').index.isin(self.insig_list)]['Label']\n",
    "        tp_ = []\n",
    "        fn_ = []\n",
    "        \n",
    "        for idn in range(len(nss)):\n",
    "            predict_label = vote_label[str(idn+1)]\n",
    "            tn, fp, fn, tp = confusion_matrix(true_label, predict_label).ravel()\n",
    "            tp_.append(tp)\n",
    "            fn_.append(fn)\n",
    "            \n",
    "        return tp_, fn_\n",
    "    \n",
    "    def evaluate_overall(self, gt_pval, vote_label):\n",
    "        true_label = gt_pval['Label']\n",
    "\n",
    "        predict_label = pd.DataFrame({'SNP': self.data_A.columns[:-2]})\n",
    "        \n",
    "        for idn in range(len(nss)):            \n",
    "            label_iter = np.zeros((len(self.data_A.columns[:-2])))\n",
    "            idx_list = [list(self.data_A.columns[:-2]).index(snp) for snp in self.insig_list]\n",
    "    \n",
    "            mask = np.ones(len(label_iter), dtype=bool)\n",
    "            mask[idx_list] = False\n",
    "\n",
    "            label_iter[mask] = vote_label[str(idn+1)]\n",
    "\n",
    "            predict_label[str(idn+1)] = label_iter\n",
    "            \n",
    "        return predict_label"
   ]
  },
  {
   "cell_type": "markdown",
   "id": "223d30ef",
   "metadata": {
    "pycharm": {
     "name": "#%% md\n"
    }
   },
   "source": [
    "# experiments"
   ]
  },
  {
   "cell_type": "code",
   "execution_count": null,
   "id": "5c399cf3",
   "metadata": {
    "ExecuteTime": {
     "end_time": "2023-01-01T23:38:33.453399Z",
     "start_time": "2023-01-01T23:38:28.208709Z"
    },
    "pycharm": {
     "name": "#%%\n"
    }
   },
   "outputs": [],
   "source": [
    "data = data_loader('human1000', '../../../Downloads/1000/all_hg38.raw', \n",
    "                   '../../../Downloads/1000/scn1.csv', '../results/1000/')"
   ]
  },
  {
   "cell_type": "code",
   "execution_count": 30,
   "id": "e79eb7e1",
   "metadata": {
    "ExecuteTime": {
     "end_time": "2023-01-02T04:42:00.032068Z",
     "start_time": "2023-01-02T01:29:49.074354Z"
    },
    "collapsed": true,
    "pycharm": {
     "name": "#%%\n"
    }
   },
   "outputs": [
    {
     "name": "stdout",
     "output_type": "stream",
     "text": [
      "finish step1\n"
     ]
    },
    {
     "name": "stderr",
     "output_type": "stream",
     "text": [
      "100%|█████████████████████████████████████████████| 6/6 [03:35<00:00, 35.93s/it]\n"
     ]
    },
    {
     "name": "stdout",
     "output_type": "stream",
     "text": [
      "finish step1\n"
     ]
    },
    {
     "name": "stderr",
     "output_type": "stream",
     "text": [
      "100%|█████████████████████████████████████████████| 6/6 [05:28<00:00, 54.75s/it]\n"
     ]
    },
    {
     "name": "stdout",
     "output_type": "stream",
     "text": [
      "finish step1\n"
     ]
    },
    {
     "name": "stderr",
     "output_type": "stream",
     "text": [
      "100%|█████████████████████████████████████████████| 6/6 [06:18<00:00, 63.16s/it]\n"
     ]
    },
    {
     "name": "stdout",
     "output_type": "stream",
     "text": [
      "finish step1\n"
     ]
    },
    {
     "name": "stderr",
     "output_type": "stream",
     "text": [
      "100%|█████████████████████████████████████████████| 6/6 [06:44<00:00, 67.36s/it]\n"
     ]
    },
    {
     "name": "stdout",
     "output_type": "stream",
     "text": [
      "finish step1\n"
     ]
    },
    {
     "name": "stderr",
     "output_type": "stream",
     "text": [
      "100%|█████████████████████████████████████████████| 6/6 [07:30<00:00, 75.09s/it]\n"
     ]
    },
    {
     "name": "stdout",
     "output_type": "stream",
     "text": [
      "finish step1\n"
     ]
    },
    {
     "name": "stderr",
     "output_type": "stream",
     "text": [
      "100%|█████████████████████████████████████████████| 6/6 [08:27<00:00, 84.53s/it]\n"
     ]
    },
    {
     "name": "stdout",
     "output_type": "stream",
     "text": [
      "finish step1\n"
     ]
    },
    {
     "name": "stderr",
     "output_type": "stream",
     "text": [
      "100%|█████████████████████████████████████████████| 6/6 [03:35<00:00, 35.86s/it]\n"
     ]
    },
    {
     "name": "stdout",
     "output_type": "stream",
     "text": [
      "finish step1\n"
     ]
    },
    {
     "name": "stderr",
     "output_type": "stream",
     "text": [
      "100%|█████████████████████████████████████████████| 6/6 [05:34<00:00, 55.77s/it]\n"
     ]
    },
    {
     "name": "stdout",
     "output_type": "stream",
     "text": [
      "finish step1\n"
     ]
    },
    {
     "name": "stderr",
     "output_type": "stream",
     "text": [
      "100%|█████████████████████████████████████████████| 6/6 [06:32<00:00, 65.39s/it]\n"
     ]
    },
    {
     "name": "stdout",
     "output_type": "stream",
     "text": [
      "finish step1\n"
     ]
    },
    {
     "name": "stderr",
     "output_type": "stream",
     "text": [
      "100%|█████████████████████████████████████████████| 6/6 [07:09<00:00, 71.63s/it]\n"
     ]
    },
    {
     "name": "stdout",
     "output_type": "stream",
     "text": [
      "finish step1\n"
     ]
    },
    {
     "name": "stderr",
     "output_type": "stream",
     "text": [
      "100%|█████████████████████████████████████████████| 6/6 [07:39<00:00, 76.56s/it]\n"
     ]
    },
    {
     "name": "stdout",
     "output_type": "stream",
     "text": [
      "finish step1\n"
     ]
    },
    {
     "name": "stderr",
     "output_type": "stream",
     "text": [
      "100%|█████████████████████████████████████████████| 6/6 [08:25<00:00, 84.20s/it]\n"
     ]
    },
    {
     "name": "stdout",
     "output_type": "stream",
     "text": [
      "finish step1\n"
     ]
    },
    {
     "name": "stderr",
     "output_type": "stream",
     "text": [
      "100%|█████████████████████████████████████████████| 6/6 [03:27<00:00, 34.61s/it]\n"
     ]
    },
    {
     "name": "stdout",
     "output_type": "stream",
     "text": [
      "finish step1\n"
     ]
    },
    {
     "name": "stderr",
     "output_type": "stream",
     "text": [
      "100%|█████████████████████████████████████████████| 6/6 [05:18<00:00, 53.00s/it]\n"
     ]
    },
    {
     "name": "stdout",
     "output_type": "stream",
     "text": [
      "finish step1\n"
     ]
    },
    {
     "name": "stderr",
     "output_type": "stream",
     "text": [
      "100%|█████████████████████████████████████████████| 6/6 [06:30<00:00, 65.04s/it]\n"
     ]
    },
    {
     "name": "stdout",
     "output_type": "stream",
     "text": [
      "finish step1\n"
     ]
    },
    {
     "name": "stderr",
     "output_type": "stream",
     "text": [
      "100%|█████████████████████████████████████████████| 6/6 [06:50<00:00, 68.35s/it]\n"
     ]
    },
    {
     "name": "stdout",
     "output_type": "stream",
     "text": [
      "finish step1\n"
     ]
    },
    {
     "name": "stderr",
     "output_type": "stream",
     "text": [
      "100%|█████████████████████████████████████████████| 6/6 [07:30<00:00, 75.08s/it]\n"
     ]
    },
    {
     "name": "stdout",
     "output_type": "stream",
     "text": [
      "finish step1\n"
     ]
    },
    {
     "name": "stderr",
     "output_type": "stream",
     "text": [
      "100%|█████████████████████████████████████████████| 6/6 [08:13<00:00, 82.22s/it]\n"
     ]
    },
    {
     "name": "stdout",
     "output_type": "stream",
     "text": [
      "finish step1\n"
     ]
    },
    {
     "name": "stderr",
     "output_type": "stream",
     "text": [
      "100%|█████████████████████████████████████████████| 6/6 [03:28<00:00, 34.77s/it]\n"
     ]
    },
    {
     "name": "stdout",
     "output_type": "stream",
     "text": [
      "finish step1\n"
     ]
    },
    {
     "name": "stderr",
     "output_type": "stream",
     "text": [
      "100%|█████████████████████████████████████████████| 6/6 [05:28<00:00, 54.77s/it]\n"
     ]
    },
    {
     "name": "stdout",
     "output_type": "stream",
     "text": [
      "finish step1\n"
     ]
    },
    {
     "name": "stderr",
     "output_type": "stream",
     "text": [
      "100%|█████████████████████████████████████████████| 6/6 [06:26<00:00, 64.39s/it]\n"
     ]
    },
    {
     "name": "stdout",
     "output_type": "stream",
     "text": [
      "finish step1\n"
     ]
    },
    {
     "name": "stderr",
     "output_type": "stream",
     "text": [
      "100%|█████████████████████████████████████████████| 6/6 [06:58<00:00, 69.73s/it]\n"
     ]
    },
    {
     "name": "stdout",
     "output_type": "stream",
     "text": [
      "finish step1\n"
     ]
    },
    {
     "name": "stderr",
     "output_type": "stream",
     "text": [
      "100%|█████████████████████████████████████████████| 6/6 [07:26<00:00, 74.37s/it]\n"
     ]
    },
    {
     "name": "stdout",
     "output_type": "stream",
     "text": [
      "finish step1\n"
     ]
    },
    {
     "name": "stderr",
     "output_type": "stream",
     "text": [
      "100%|█████████████████████████████████████████████| 6/6 [08:23<00:00, 83.97s/it]\n"
     ]
    },
    {
     "name": "stdout",
     "output_type": "stream",
     "text": [
      "finish step1\n"
     ]
    },
    {
     "name": "stderr",
     "output_type": "stream",
     "text": [
      "100%|█████████████████████████████████████████████| 6/6 [03:29<00:00, 34.88s/it]\n"
     ]
    },
    {
     "name": "stdout",
     "output_type": "stream",
     "text": [
      "finish step1\n"
     ]
    },
    {
     "name": "stderr",
     "output_type": "stream",
     "text": [
      "100%|█████████████████████████████████████████████| 6/6 [05:07<00:00, 51.19s/it]\n"
     ]
    },
    {
     "name": "stdout",
     "output_type": "stream",
     "text": [
      "finish step1\n"
     ]
    },
    {
     "name": "stderr",
     "output_type": "stream",
     "text": [
      "100%|█████████████████████████████████████████████| 6/6 [05:53<00:00, 58.95s/it]\n"
     ]
    },
    {
     "name": "stdout",
     "output_type": "stream",
     "text": [
      "finish step1\n"
     ]
    },
    {
     "name": "stderr",
     "output_type": "stream",
     "text": [
      "100%|█████████████████████████████████████████████| 6/6 [06:50<00:00, 68.36s/it]\n"
     ]
    },
    {
     "name": "stdout",
     "output_type": "stream",
     "text": [
      "finish step1\n"
     ]
    },
    {
     "name": "stderr",
     "output_type": "stream",
     "text": [
      "100%|█████████████████████████████████████████████| 6/6 [07:45<00:00, 77.62s/it]\n"
     ]
    },
    {
     "name": "stdout",
     "output_type": "stream",
     "text": [
      "finish step1\n"
     ]
    },
    {
     "name": "stderr",
     "output_type": "stream",
     "text": [
      "100%|█████████████████████████████████████████████| 6/6 [08:07<00:00, 81.30s/it]\n"
     ]
    }
   ],
   "source": [
    "iters = 5\n",
    "batch_size = [100, 300, 500, 700, 900, 1100]\n",
    "p_thre = [0.005, 0.1, 0.15, 0.2, 0.25, 0.3]\n",
    "seeds = [0, 100, 210, 970, 3506, 23525, 32451, 2466, 1242]\n",
    "\n",
    "data = pd.read_csv('../results/1000/dataset.csv', index_col='IID')\n",
    "\n",
    "gt_pval = pd.read_csv('../results/1000/centralized/gt_pval.csv') \n",
    "\n",
    "\n",
    "step1_time = []\n",
    "step2_time = []\n",
    "for i_iter in range(iters):\n",
    "    data_A, data_B = partition('human1000', data, '1', seeds[i_iter])\n",
    "    for p_idx, p0 in enumerate(p_thre):        \n",
    "        thresholds = {1: p0, 0: 1}  \n",
    "        step1_path = '../results/1000/sc1/test' + str(i_iter) + '/' + str(list(thresholds.values())[0]) + '/step1/'\n",
    "        \n",
    "        if p_idx == 0:\n",
    "        # start step 1 only compute the p-values once for a and b\n",
    "            t0 = time.time()\n",
    "            step1 = process_1(data_A, data_B)\n",
    "            p_A, p_B = step1.fit()\n",
    "            p_A_label, p_B_label, insig_list, column_list = step1.predict(p_A, p_B, thresholds)\n",
    "            t1 = time.time()\n",
    "            step1_time.append(t1-t0)\n",
    "\n",
    "            save_results(p_A,step1_path,'p_A')\n",
    "            save_results(p_B,step1_path, 'p_B')\n",
    "        else:\n",
    "            p_A = pd.read_csv('../results/1000/sc1/test' + str(i_iter) + '/' + str(0.005) + '/step1/'+'p_A.csv')\n",
    "            p_B = pd.read_csv('../results/1000/sc1/test' + str(i_iter) + '/' + str(0.005) + '/step1/'+'p_B.csv')\n",
    "            \n",
    "            p_A_label, p_B_label, insig_list, column_list = step1.predict(p_A, p_B, thresholds)\n",
    "              \n",
    "        print('finish step1')\n",
    "        # save step 1 res\n",
    "        \n",
    "        save_results(p_A_label, step1_path, 'p_A_label')\n",
    "        save_results(column_list, step1_path, 'sig_list')\n",
    "        save_results(insig_list, step1_path, 'insig_list')\n",
    "        \n",
    "        # start step 2 \n",
    "        step2_path = '../results/1000/sc1/test'+str(i_iter)+'/'+str(list(thresholds.values())[0])+'/step2/'\n",
    "\n",
    "                        \n",
    "        for bs in tqdm(batch_size):\n",
    "            nss = [bs for _ in range(9)]\n",
    "\n",
    "            t2 = time.time()\n",
    "\n",
    "            step2 = process_2(data_A, data_B, insig_list, nss, seeds)\n",
    "            p_value_uni, selected_idx = step2.fit()\n",
    "            pval, iter_label, vote_label = step2.predict(p_value_uni, column_list,  thresholds)\n",
    "            step2_time.append(time.time() - t2)\n",
    "            all_pred = step2.evaluate_overall(gt_pval, vote_label)\n",
    "\n",
    "            save_results(p_value_uni, step2_path +str(bs)+'/', 'p_value_uni')\n",
    "            save_results(selected_idx, step2_path +str(bs)+'/', 'selected_idx')\n",
    "\n",
    "            save_results(pval, step2_path +str(bs)+'/' , 'pval')\n",
    "            save_results(iter_label, step2_path +str(bs)+'/', 'iter_label')\n",
    "            save_results(vote_label, step2_path +str(bs)+'/', 'vote_label')\n",
    "            save_results(all_pred, step2_path +str(bs)+'/', 'all_pred')\n",
    "                            \n",
    "save_results(step1_time, '../results/1000/sc1/', 'step1_time')\n",
    "save_results(step2_time, '../results/1000/sc1/', 'step2_time')\n"
   ]
  },
  {
   "cell_type": "code",
   "execution_count": null,
   "id": "cf8a2008",
   "metadata": {
    "ExecuteTime": {
     "end_time": "2023-01-01T23:39:37.458263Z",
     "start_time": "2023-01-01T23:39:37.458257Z"
    },
    "pycharm": {
     "name": "#%%\n"
    }
   },
   "outputs": [],
   "source": [
    "iters = 5\n",
    "batch_size = [100, 300, 500, 700, 900, 1100]\n",
    "p_thre = [0.005, 0.1, 0.15, 0.2, 0.25, 0.3]\n",
    "seeds = [0, 100, 210, 970, 3506, 23525, 32451, 2466, 1242]\n",
    "\n",
    "\n",
    "data = pd.read_csv('../results/1000/dataset.csv')\n",
    "\n",
    "gt_pval = pd.read_csv('../results/1000/centralized/gt_pval.csv') \n",
    "\n",
    "\n",
    "step1_time = []\n",
    "step2_time = []\n",
    "for i_iter in range(iters):\n",
    "    data_A, data_B = partition('human1000', data, '2', seeds[i_iter])\n",
    "    for p_idx, p0 in enumerate(p_thre):        \n",
    "        thresholds = {1: p0, 0: 1}  \n",
    "        step1_path = '../results/1000/sc1/test' + str(i_iter) + '/' + str(list(thresholds.values())[0]) + '/step1/'\n",
    "        \n",
    "        if p_idx == 0:\n",
    "        # start step 1 only compute the p-values once for a and b\n",
    "            t0 = time.time()\n",
    "            step1 = process_1(data_A, data_B)\n",
    "            p_A, p_B = step1.fit()\n",
    "            p_A_label, p_B_label, insig_list, column_list = step1.predict(p_A, p_B, thresholds)\n",
    "            t1 = time.time()\n",
    "            step1_time.append(t1-t0)\n",
    "\n",
    "            save_results(p_A,step1_path,'p_A')\n",
    "            save_results(p_B,step1_path, 'p_B')\n",
    "        else:\n",
    "            p_A = pd.read_csv('../results/1000/sc2/test' + str(i_iter) + '/' + str(0.005) + '/step1/'+'p_A.csv')\n",
    "            p_B = pd.read_csv('../results/1000/sc2/test' + str(i_iter) + '/' + str(0.005) + '/step1/'+'p_B.csv')\n",
    "            \n",
    "            p_A_label, p_B_label, insig_list, column_list = step1.predict(p_A, p_B, thresholds)\n",
    "              \n",
    "        print('finish step1')\n",
    "        # save step 1 res\n",
    "        \n",
    "        save_results(p_A_label, step1_path, 'p_A_label')\n",
    "        save_results(column_list, step1_path, 'sig_list')\n",
    "        save_results(insig_list, step1_path, 'insig_list')\n",
    "        \n",
    "        # start step 2 \n",
    "        step2_path = '../results/1000/sc2/test'+str(i_iter)+'/'+str(list(thresholds.values())[0])+'/step2/'\n",
    "        if p_idx == 0: # same here, for each batch size, only need to compute the p-values once \n",
    "            \n",
    "            for bs in tqdm(batch_size):\n",
    "                nss = [bs for _ in range(9)]\n",
    "\n",
    "                t2 = time.time()\n",
    "\n",
    "                step2 = process_2(data_A, data_B, insig_list, nss, seeds)\n",
    "                p_value_uni, selected_idx = step2.fit()\n",
    "                pval, iter_label, vote_label = step2.predict(p_value_uni, column_list,  thresholds)\n",
    "                step2_time.append(time.time() - t2)\n",
    "                all_pred = step2.evaluate_overall(gt_pval, vote_label)\n",
    "                \n",
    "                save_results(p_value_uni, step2_path +str(bs)+'/', 'p_value_uni')\n",
    "                save_results(selected_idx, step2_path +str(bs)+'/', 'selected_idx')\n",
    "\n",
    "                save_results(pval, step2_path +str(bs)+'/' , 'pval')\n",
    "                save_results(iter_label, step2_path +str(bs)+'/', 'iter_label')\n",
    "                save_results(vote_label, step2_path +str(bs)+'/', 'vote_label')\n",
    "                save_results(all_pred, step2_path +str(bs)+'/', 'all_pred')\n",
    "\n",
    "        else:\n",
    "            for bs in tqdm(batch_size):\n",
    "                nss = [bs for _ in range(9)]\n",
    "                step2 = process_2(data_A, data_B, insig_list, nss, seeds)\n",
    "                \n",
    "                with open('../results/1000/sc2/test' + str(i_iter) + '/' + str(0.005) + '/step2/'+str(bs)+ '/p_value_uni.pkl', 'rb') as f:\n",
    "                    p_value_uni = pickle.load(f)\n",
    "                \n",
    "                pval, iter_label, vote_label = step2.predict(p_value_uni, column_list, thresholds)\n",
    "                all_pred = step2.evaluate_overall(gt_pval, vote_label)\n",
    "                \n",
    "                save_results(pval, step2_path +str(bs)+'/' , 'pval')\n",
    "                save_results(iter_label, step2_path +str(bs)+'/', 'iter_label')\n",
    "                save_results(vote_label, step2_path +str(bs)+'/', 'vote_label')\n",
    "                save_results(all_pred, step2_path +str(bs)+'/', 'all_pred')\n",
    "                            \n",
    "save_results(step1_time, '../results/1000/sc2/', 'step1_time')\n",
    "save_results(step2_time, '../results/1000/sc2/', 'step2_time')\n"
   ]
  },
  {
   "cell_type": "code",
   "execution_count": 22,
   "id": "028cab87",
   "metadata": {
    "ExecuteTime": {
     "end_time": "2023-01-06T04:00:01.350943Z",
     "start_time": "2023-01-06T00:46:57.592111Z"
    },
    "collapsed": true,
    "pycharm": {
     "name": "#%%\n"
    }
   },
   "outputs": [
    {
     "name": "stdout",
     "output_type": "stream",
     "text": [
      "900\n",
      "300\n",
      "finish step1\n"
     ]
    },
    {
     "name": "stderr",
     "output_type": "stream",
     "text": [
      "100%|█████████████████████████████████████████████| 6/6 [07:34<00:00, 75.81s/it]\n"
     ]
    },
    {
     "name": "stdout",
     "output_type": "stream",
     "text": [
      "finish step1\n"
     ]
    },
    {
     "name": "stderr",
     "output_type": "stream",
     "text": [
      "100%|█████████████████████████████████████████████| 6/6 [05:56<00:00, 59.37s/it]\n"
     ]
    },
    {
     "name": "stdout",
     "output_type": "stream",
     "text": [
      "finish step1\n"
     ]
    },
    {
     "name": "stderr",
     "output_type": "stream",
     "text": [
      "100%|█████████████████████████████████████████████| 6/6 [06:01<00:00, 60.27s/it]\n"
     ]
    },
    {
     "name": "stdout",
     "output_type": "stream",
     "text": [
      "finish step1\n"
     ]
    },
    {
     "name": "stderr",
     "output_type": "stream",
     "text": [
      "100%|█████████████████████████████████████████████| 6/6 [07:06<00:00, 71.13s/it]\n"
     ]
    },
    {
     "name": "stdout",
     "output_type": "stream",
     "text": [
      "finish step1\n"
     ]
    },
    {
     "name": "stderr",
     "output_type": "stream",
     "text": [
      "100%|█████████████████████████████████████████████| 6/6 [07:22<00:00, 73.80s/it]\n"
     ]
    },
    {
     "name": "stdout",
     "output_type": "stream",
     "text": [
      "finish step1\n"
     ]
    },
    {
     "name": "stderr",
     "output_type": "stream",
     "text": [
      "100%|█████████████████████████████████████████████| 6/6 [07:56<00:00, 79.34s/it]\n"
     ]
    },
    {
     "name": "stdout",
     "output_type": "stream",
     "text": [
      "900\n",
      "300\n",
      "finish step1\n"
     ]
    },
    {
     "name": "stderr",
     "output_type": "stream",
     "text": [
      "100%|█████████████████████████████████████████████| 6/6 [03:39<00:00, 36.60s/it]\n"
     ]
    },
    {
     "name": "stdout",
     "output_type": "stream",
     "text": [
      "finish step1\n"
     ]
    },
    {
     "name": "stderr",
     "output_type": "stream",
     "text": [
      "100%|█████████████████████████████████████████████| 6/6 [05:21<00:00, 53.51s/it]\n"
     ]
    },
    {
     "name": "stdout",
     "output_type": "stream",
     "text": [
      "finish step1\n"
     ]
    },
    {
     "name": "stderr",
     "output_type": "stream",
     "text": [
      "100%|█████████████████████████████████████████████| 6/6 [06:22<00:00, 63.80s/it]\n"
     ]
    },
    {
     "name": "stdout",
     "output_type": "stream",
     "text": [
      "finish step1\n"
     ]
    },
    {
     "name": "stderr",
     "output_type": "stream",
     "text": [
      "100%|█████████████████████████████████████████████| 6/6 [07:28<00:00, 74.67s/it]\n"
     ]
    },
    {
     "name": "stdout",
     "output_type": "stream",
     "text": [
      "finish step1\n"
     ]
    },
    {
     "name": "stderr",
     "output_type": "stream",
     "text": [
      "100%|█████████████████████████████████████████████| 6/6 [07:34<00:00, 75.67s/it]\n"
     ]
    },
    {
     "name": "stdout",
     "output_type": "stream",
     "text": [
      "finish step1\n"
     ]
    },
    {
     "name": "stderr",
     "output_type": "stream",
     "text": [
      "100%|█████████████████████████████████████████████| 6/6 [08:10<00:00, 81.80s/it]\n"
     ]
    },
    {
     "name": "stdout",
     "output_type": "stream",
     "text": [
      "900\n",
      "300\n",
      "finish step1\n"
     ]
    },
    {
     "name": "stderr",
     "output_type": "stream",
     "text": [
      "100%|█████████████████████████████████████████████| 6/6 [03:37<00:00, 36.24s/it]\n"
     ]
    },
    {
     "name": "stdout",
     "output_type": "stream",
     "text": [
      "finish step1\n"
     ]
    },
    {
     "name": "stderr",
     "output_type": "stream",
     "text": [
      "100%|█████████████████████████████████████████████| 6/6 [04:59<00:00, 49.94s/it]\n"
     ]
    },
    {
     "name": "stdout",
     "output_type": "stream",
     "text": [
      "finish step1\n"
     ]
    },
    {
     "name": "stderr",
     "output_type": "stream",
     "text": [
      "100%|█████████████████████████████████████████████| 6/6 [05:47<00:00, 57.98s/it]\n"
     ]
    },
    {
     "name": "stdout",
     "output_type": "stream",
     "text": [
      "finish step1\n"
     ]
    },
    {
     "name": "stderr",
     "output_type": "stream",
     "text": [
      "100%|█████████████████████████████████████████████| 6/6 [06:26<00:00, 64.40s/it]\n"
     ]
    },
    {
     "name": "stdout",
     "output_type": "stream",
     "text": [
      "finish step1\n"
     ]
    },
    {
     "name": "stderr",
     "output_type": "stream",
     "text": [
      "100%|█████████████████████████████████████████████| 6/6 [07:09<00:00, 71.63s/it]\n"
     ]
    },
    {
     "name": "stdout",
     "output_type": "stream",
     "text": [
      "finish step1\n"
     ]
    },
    {
     "name": "stderr",
     "output_type": "stream",
     "text": [
      "100%|█████████████████████████████████████████████| 6/6 [07:44<00:00, 77.40s/it]\n"
     ]
    },
    {
     "name": "stdout",
     "output_type": "stream",
     "text": [
      "900\n",
      "300\n",
      "finish step1\n"
     ]
    },
    {
     "name": "stderr",
     "output_type": "stream",
     "text": [
      "100%|█████████████████████████████████████████████| 6/6 [03:39<00:00, 36.56s/it]\n"
     ]
    },
    {
     "name": "stdout",
     "output_type": "stream",
     "text": [
      "finish step1\n"
     ]
    },
    {
     "name": "stderr",
     "output_type": "stream",
     "text": [
      "100%|█████████████████████████████████████████████| 6/6 [05:23<00:00, 53.95s/it]\n"
     ]
    },
    {
     "name": "stdout",
     "output_type": "stream",
     "text": [
      "finish step1\n"
     ]
    },
    {
     "name": "stderr",
     "output_type": "stream",
     "text": [
      "100%|█████████████████████████████████████████████| 6/6 [06:15<00:00, 62.63s/it]\n"
     ]
    },
    {
     "name": "stdout",
     "output_type": "stream",
     "text": [
      "finish step1\n"
     ]
    },
    {
     "name": "stderr",
     "output_type": "stream",
     "text": [
      "100%|█████████████████████████████████████████████| 6/6 [06:55<00:00, 69.21s/it]\n"
     ]
    },
    {
     "name": "stdout",
     "output_type": "stream",
     "text": [
      "finish step1\n"
     ]
    },
    {
     "name": "stderr",
     "output_type": "stream",
     "text": [
      "100%|█████████████████████████████████████████████| 6/6 [07:37<00:00, 76.25s/it]\n"
     ]
    },
    {
     "name": "stdout",
     "output_type": "stream",
     "text": [
      "finish step1\n"
     ]
    },
    {
     "name": "stderr",
     "output_type": "stream",
     "text": [
      "100%|█████████████████████████████████████████████| 6/6 [08:26<00:00, 84.44s/it]\n"
     ]
    },
    {
     "name": "stdout",
     "output_type": "stream",
     "text": [
      "900\n",
      "300\n",
      "finish step1\n"
     ]
    },
    {
     "name": "stderr",
     "output_type": "stream",
     "text": [
      "100%|█████████████████████████████████████████████| 6/6 [03:37<00:00, 36.27s/it]\n"
     ]
    },
    {
     "name": "stdout",
     "output_type": "stream",
     "text": [
      "finish step1\n"
     ]
    },
    {
     "name": "stderr",
     "output_type": "stream",
     "text": [
      "100%|█████████████████████████████████████████████| 6/6 [05:07<00:00, 51.31s/it]\n"
     ]
    },
    {
     "name": "stdout",
     "output_type": "stream",
     "text": [
      "finish step1\n"
     ]
    },
    {
     "name": "stderr",
     "output_type": "stream",
     "text": [
      "100%|█████████████████████████████████████████████| 6/6 [05:54<00:00, 59.02s/it]\n"
     ]
    },
    {
     "name": "stdout",
     "output_type": "stream",
     "text": [
      "finish step1\n"
     ]
    },
    {
     "name": "stderr",
     "output_type": "stream",
     "text": [
      "100%|█████████████████████████████████████████████| 6/6 [06:33<00:00, 65.57s/it]\n"
     ]
    },
    {
     "name": "stdout",
     "output_type": "stream",
     "text": [
      "finish step1\n"
     ]
    },
    {
     "name": "stderr",
     "output_type": "stream",
     "text": [
      "100%|█████████████████████████████████████████████| 6/6 [07:15<00:00, 72.64s/it]\n"
     ]
    },
    {
     "name": "stdout",
     "output_type": "stream",
     "text": [
      "finish step1\n"
     ]
    },
    {
     "name": "stderr",
     "output_type": "stream",
     "text": [
      "100%|█████████████████████████████████████████████| 6/6 [07:50<00:00, 78.44s/it]\n"
     ]
    }
   ],
   "source": [
    "iters = 5\n",
    "batch_size = [100, 300, 500, 700, 900, 1100]\n",
    "p_thre = [0.005, 0.1, 0.15, 0.2, 0.25, 0.3]\n",
    "seeds = [0, 100, 210, 970, 3506, 23525, 32451, 2466, 1242]\n",
    "\n",
    "\n",
    "data = pd.read_csv('../results/1000/dataset.csv')\n",
    "\n",
    "gt_pval = pd.read_csv('../results/1000/centralized/gt_pval.csv') \n",
    "\n",
    "\n",
    "step1_time = []\n",
    "step2_time = []\n",
    "for i_iter in range(iters):\n",
    "    data_A, data_B = partition('human1000', data, '3', seeds[i_iter])\n",
    "    print(len(data_A[data_A['y']==0]))\n",
    "    print(len(data_A[data_A['y']==1]))\n",
    "\n",
    "    for p_idx, p0 in enumerate(p_thre):        \n",
    "        thresholds = {1: p0, 0: 1}  \n",
    "        step1_path = '../results/1000/sc4/test' + str(i_iter) + '/' + str(list(thresholds.values())[0]) + '/step1/'\n",
    "        \n",
    "        if p_idx == 0:\n",
    "        # start step 1 only compute the p-values once for a and b\n",
    "            t0 = time.time()\n",
    "            step1 = process_1(data_A, data_B)\n",
    "            p_A, p_B = step1.fit()\n",
    "            p_A_label, p_B_label, insig_list, column_list = step1.predict(p_A, p_B, thresholds)\n",
    "            t1 = time.time()\n",
    "            step1_time.append(t1-t0)\n",
    "\n",
    "            save_results(p_A,step1_path,'p_A')\n",
    "            save_results(p_B,step1_path, 'p_B')\n",
    "        else:\n",
    "            p_A = pd.read_csv('../results/1000/sc4/test' + str(i_iter) + '/' + str(0.005) + '/step1/'+'p_A.csv')\n",
    "            p_B = pd.read_csv('../results/1000/sc4/test' + str(i_iter) + '/' + str(0.005) + '/step1/'+'p_B.csv')\n",
    "            \n",
    "            p_A_label, p_B_label, insig_list, column_list = step1.predict(p_A, p_B, thresholds)\n",
    "              \n",
    "        print('finish step1')\n",
    "        # save step 1 res\n",
    "        \n",
    "        save_results(p_A_label, step1_path, 'p_A_label')\n",
    "        save_results(column_list, step1_path, 'sig_list')\n",
    "        save_results(insig_list, step1_path, 'insig_list')\n",
    "        \n",
    "        # start step 2 \n",
    "        step2_path = '../results/1000/sc4/test'+str(i_iter)+'/'+str(list(thresholds.values())[0])+'/step2/'\n",
    "            \n",
    "        for bs in tqdm(batch_size):\n",
    "            nss = [bs for _ in range(9)]\n",
    "\n",
    "            t2 = time.time()\n",
    "\n",
    "            step2 = process_2(data_A, data_B, insig_list, nss, seeds)\n",
    "            p_value_uni, selected_idx = step2.fit()\n",
    "            pval, iter_label, vote_label = step2.predict(p_value_uni, column_list,  thresholds)\n",
    "            step2_time.append(time.time() - t2)\n",
    "            all_pred = step2.evaluate_overall(gt_pval, vote_label)\n",
    "\n",
    "            save_results(p_value_uni, step2_path +str(bs)+'/', 'p_value_uni')\n",
    "            save_results(selected_idx, step2_path +str(bs)+'/', 'selected_idx')\n",
    "\n",
    "            save_results(pval, step2_path +str(bs)+'/' , 'pval')\n",
    "            save_results(iter_label, step2_path +str(bs)+'/', 'iter_label')\n",
    "            save_results(vote_label, step2_path +str(bs)+'/', 'vote_label')\n",
    "            save_results(all_pred, step2_path +str(bs)+'/', 'all_pred')\n",
    "\n",
    "                            \n",
    "save_results(step1_time, '../results/1000/sc4/', 'step1_time')\n",
    "save_results(step2_time, '../results/1000/sc4/', 'step2_time')\n"
   ]
  },
  {
   "cell_type": "markdown",
   "id": "d3db2a5e",
   "metadata": {
    "pycharm": {
     "name": "#%% md\n"
    }
   },
   "source": [
    "# Meta Analysis preperation for GWAR"
   ]
  },
  {
   "cell_type": "code",
   "execution_count": 88,
   "id": "99aa5a5c",
   "metadata": {
    "ExecuteTime": {
     "end_time": "2023-01-06T14:18:40.178326Z",
     "start_time": "2023-01-06T14:18:38.504813Z"
    },
    "pycharm": {
     "name": "#%%\n"
    }
   },
   "outputs": [],
   "source": [
    "data = pd.read_csv('../results/1000/dataset.csv', index_col='IID')"
   ]
  },
  {
   "cell_type": "code",
   "execution_count": 70,
   "id": "02d239ca",
   "metadata": {
    "ExecuteTime": {
     "end_time": "2023-01-02T20:49:03.216294Z",
     "start_time": "2023-01-02T20:49:03.200133Z"
    },
    "pycharm": {
     "name": "#%%\n"
    }
   },
   "outputs": [
    {
     "data": {
      "text/plain": [
       "{2: 2327, 1: 73}"
      ]
     },
     "execution_count": 70,
     "metadata": {},
     "output_type": "execute_result"
    }
   ],
   "source": [
    "dict(data['SNP35'].value_counts())"
   ]
  },
  {
   "cell_type": "code",
   "execution_count": 45,
   "id": "ad504da4",
   "metadata": {
    "ExecuteTime": {
     "end_time": "2023-01-02T20:40:33.615323Z",
     "start_time": "2023-01-02T20:40:33.609269Z"
    },
    "pycharm": {
     "name": "#%%\n"
    }
   },
   "outputs": [],
   "source": [
    "snp_list = list(data.columns[:-2])"
   ]
  },
  {
   "cell_type": "code",
   "execution_count": 62,
   "id": "c3aa271b",
   "metadata": {
    "ExecuteTime": {
     "end_time": "2023-01-02T20:43:55.434838Z",
     "start_time": "2023-01-02T20:43:55.427818Z"
    },
    "pycharm": {
     "name": "#%%\n"
    }
   },
   "outputs": [],
   "source": [
    "A_counts = np.zeros((len(snp_list), 3))"
   ]
  },
  {
   "cell_type": "code",
   "execution_count": 94,
   "id": "bfa6d5e0",
   "metadata": {
    "ExecuteTime": {
     "end_time": "2023-01-06T14:20:37.622199Z",
     "start_time": "2023-01-06T14:20:37.611217Z"
    },
    "pycharm": {
     "name": "#%%\n"
    }
   },
   "outputs": [],
   "source": [
    "def get_counts(data, snp_list):\n",
    "    \n",
    "    data_case = data[data['y']==1]\n",
    "    data_control = data[data['y']==0]\n",
    "    \n",
    "    \n",
    "    counts_case = np.zeros((len(snp_list), 3))\n",
    "    counts_control = np.zeros((len(snp_list), 3))\n",
    "\n",
    "    for idx, col in enumerate(snp_list):\n",
    "        count_dict = dict(data_case[col].value_counts())\n",
    "    \n",
    "        for key in [0, 1, 2]:\n",
    "            if key in count_dict:\n",
    "                counts_case[idx, key] = int(count_dict[key])\n",
    "            else:\n",
    "                counts_case[idx, key] = 0\n",
    "\n",
    "    for idx, col in enumerate(snp_list):\n",
    "        count_dict = dict(data_control[col].value_counts())\n",
    "\n",
    "        for key in [0, 1, 2]:\n",
    "            if key in count_dict:\n",
    "                counts_control[idx, key] = int(count_dict[key])\n",
    "            else:\n",
    "                counts_control[idx, key] = 0\n",
    "    \n",
    "    \n",
    "    return np.hstack((counts_case, counts_control)).astype(int)"
   ]
  },
  {
   "cell_type": "code",
   "execution_count": 100,
   "id": "f99335ca",
   "metadata": {
    "ExecuteTime": {
     "end_time": "2023-01-02T21:14:00.528467Z",
     "start_time": "2023-01-02T21:14:00.505868Z"
    },
    "collapsed": true,
    "pycharm": {
     "name": "#%%\n"
    }
   },
   "outputs": [
    {
     "data": {
      "text/html": [
       "<div>\n",
       "<style scoped>\n",
       "    .dataframe tbody tr th:only-of-type {\n",
       "        vertical-align: middle;\n",
       "    }\n",
       "\n",
       "    .dataframe tbody tr th {\n",
       "        vertical-align: top;\n",
       "    }\n",
       "\n",
       "    .dataframe thead th {\n",
       "        text-align: right;\n",
       "    }\n",
       "</style>\n",
       "<table border=\"1\" class=\"dataframe\">\n",
       "  <thead>\n",
       "    <tr style=\"text-align: right;\">\n",
       "      <th></th>\n",
       "      <th>SNP1</th>\n",
       "      <th>SNP2</th>\n",
       "      <th>SNP3</th>\n",
       "      <th>SNP4</th>\n",
       "      <th>SNP5</th>\n",
       "      <th>SNP6</th>\n",
       "      <th>SNP7</th>\n",
       "      <th>SNP8</th>\n",
       "      <th>SNP9</th>\n",
       "      <th>SNP10</th>\n",
       "      <th>...</th>\n",
       "      <th>SNP9416</th>\n",
       "      <th>SNP9417</th>\n",
       "      <th>SNP9418</th>\n",
       "      <th>SNP9419</th>\n",
       "      <th>SNP9420</th>\n",
       "      <th>SNP9421</th>\n",
       "      <th>SNP9422</th>\n",
       "      <th>SNP9423</th>\n",
       "      <th>SNP9424</th>\n",
       "      <th>y</th>\n",
       "    </tr>\n",
       "    <tr>\n",
       "      <th>IID</th>\n",
       "      <th></th>\n",
       "      <th></th>\n",
       "      <th></th>\n",
       "      <th></th>\n",
       "      <th></th>\n",
       "      <th></th>\n",
       "      <th></th>\n",
       "      <th></th>\n",
       "      <th></th>\n",
       "      <th></th>\n",
       "      <th></th>\n",
       "      <th></th>\n",
       "      <th></th>\n",
       "      <th></th>\n",
       "      <th></th>\n",
       "      <th></th>\n",
       "      <th></th>\n",
       "      <th></th>\n",
       "      <th></th>\n",
       "      <th></th>\n",
       "      <th></th>\n",
       "    </tr>\n",
       "  </thead>\n",
       "  <tbody>\n",
       "    <tr>\n",
       "      <th>HG00096</th>\n",
       "      <td>2</td>\n",
       "      <td>2</td>\n",
       "      <td>0</td>\n",
       "      <td>2</td>\n",
       "      <td>1</td>\n",
       "      <td>2</td>\n",
       "      <td>2</td>\n",
       "      <td>2</td>\n",
       "      <td>2</td>\n",
       "      <td>2</td>\n",
       "      <td>...</td>\n",
       "      <td>2</td>\n",
       "      <td>1</td>\n",
       "      <td>2</td>\n",
       "      <td>2</td>\n",
       "      <td>2</td>\n",
       "      <td>2</td>\n",
       "      <td>2</td>\n",
       "      <td>2</td>\n",
       "      <td>2</td>\n",
       "      <td>0</td>\n",
       "    </tr>\n",
       "    <tr>\n",
       "      <th>HG00097</th>\n",
       "      <td>2</td>\n",
       "      <td>2</td>\n",
       "      <td>1</td>\n",
       "      <td>2</td>\n",
       "      <td>1</td>\n",
       "      <td>2</td>\n",
       "      <td>2</td>\n",
       "      <td>2</td>\n",
       "      <td>1</td>\n",
       "      <td>2</td>\n",
       "      <td>...</td>\n",
       "      <td>2</td>\n",
       "      <td>1</td>\n",
       "      <td>2</td>\n",
       "      <td>2</td>\n",
       "      <td>2</td>\n",
       "      <td>2</td>\n",
       "      <td>2</td>\n",
       "      <td>2</td>\n",
       "      <td>2</td>\n",
       "      <td>0</td>\n",
       "    </tr>\n",
       "    <tr>\n",
       "      <th>HG00099</th>\n",
       "      <td>2</td>\n",
       "      <td>2</td>\n",
       "      <td>0</td>\n",
       "      <td>1</td>\n",
       "      <td>1</td>\n",
       "      <td>2</td>\n",
       "      <td>2</td>\n",
       "      <td>2</td>\n",
       "      <td>2</td>\n",
       "      <td>1</td>\n",
       "      <td>...</td>\n",
       "      <td>2</td>\n",
       "      <td>1</td>\n",
       "      <td>2</td>\n",
       "      <td>2</td>\n",
       "      <td>2</td>\n",
       "      <td>2</td>\n",
       "      <td>2</td>\n",
       "      <td>2</td>\n",
       "      <td>2</td>\n",
       "      <td>0</td>\n",
       "    </tr>\n",
       "    <tr>\n",
       "      <th>HG00100</th>\n",
       "      <td>2</td>\n",
       "      <td>2</td>\n",
       "      <td>0</td>\n",
       "      <td>0</td>\n",
       "      <td>2</td>\n",
       "      <td>2</td>\n",
       "      <td>2</td>\n",
       "      <td>2</td>\n",
       "      <td>1</td>\n",
       "      <td>2</td>\n",
       "      <td>...</td>\n",
       "      <td>2</td>\n",
       "      <td>1</td>\n",
       "      <td>2</td>\n",
       "      <td>2</td>\n",
       "      <td>1</td>\n",
       "      <td>2</td>\n",
       "      <td>2</td>\n",
       "      <td>2</td>\n",
       "      <td>1</td>\n",
       "      <td>1</td>\n",
       "    </tr>\n",
       "    <tr>\n",
       "      <th>HG00101</th>\n",
       "      <td>2</td>\n",
       "      <td>2</td>\n",
       "      <td>0</td>\n",
       "      <td>2</td>\n",
       "      <td>2</td>\n",
       "      <td>2</td>\n",
       "      <td>2</td>\n",
       "      <td>2</td>\n",
       "      <td>1</td>\n",
       "      <td>2</td>\n",
       "      <td>...</td>\n",
       "      <td>2</td>\n",
       "      <td>1</td>\n",
       "      <td>2</td>\n",
       "      <td>2</td>\n",
       "      <td>2</td>\n",
       "      <td>2</td>\n",
       "      <td>2</td>\n",
       "      <td>2</td>\n",
       "      <td>1</td>\n",
       "      <td>1</td>\n",
       "    </tr>\n",
       "    <tr>\n",
       "      <th>...</th>\n",
       "      <td>...</td>\n",
       "      <td>...</td>\n",
       "      <td>...</td>\n",
       "      <td>...</td>\n",
       "      <td>...</td>\n",
       "      <td>...</td>\n",
       "      <td>...</td>\n",
       "      <td>...</td>\n",
       "      <td>...</td>\n",
       "      <td>...</td>\n",
       "      <td>...</td>\n",
       "      <td>...</td>\n",
       "      <td>...</td>\n",
       "      <td>...</td>\n",
       "      <td>...</td>\n",
       "      <td>...</td>\n",
       "      <td>...</td>\n",
       "      <td>...</td>\n",
       "      <td>...</td>\n",
       "      <td>...</td>\n",
       "      <td>...</td>\n",
       "    </tr>\n",
       "    <tr>\n",
       "      <th>NA20532</th>\n",
       "      <td>2</td>\n",
       "      <td>2</td>\n",
       "      <td>0</td>\n",
       "      <td>1</td>\n",
       "      <td>1</td>\n",
       "      <td>2</td>\n",
       "      <td>2</td>\n",
       "      <td>2</td>\n",
       "      <td>2</td>\n",
       "      <td>2</td>\n",
       "      <td>...</td>\n",
       "      <td>2</td>\n",
       "      <td>1</td>\n",
       "      <td>2</td>\n",
       "      <td>2</td>\n",
       "      <td>2</td>\n",
       "      <td>2</td>\n",
       "      <td>2</td>\n",
       "      <td>2</td>\n",
       "      <td>2</td>\n",
       "      <td>0</td>\n",
       "    </tr>\n",
       "    <tr>\n",
       "      <th>NA20533</th>\n",
       "      <td>1</td>\n",
       "      <td>2</td>\n",
       "      <td>0</td>\n",
       "      <td>0</td>\n",
       "      <td>1</td>\n",
       "      <td>2</td>\n",
       "      <td>2</td>\n",
       "      <td>2</td>\n",
       "      <td>2</td>\n",
       "      <td>1</td>\n",
       "      <td>...</td>\n",
       "      <td>2</td>\n",
       "      <td>0</td>\n",
       "      <td>2</td>\n",
       "      <td>2</td>\n",
       "      <td>2</td>\n",
       "      <td>2</td>\n",
       "      <td>2</td>\n",
       "      <td>2</td>\n",
       "      <td>2</td>\n",
       "      <td>0</td>\n",
       "    </tr>\n",
       "    <tr>\n",
       "      <th>NA20534</th>\n",
       "      <td>2</td>\n",
       "      <td>2</td>\n",
       "      <td>0</td>\n",
       "      <td>1</td>\n",
       "      <td>1</td>\n",
       "      <td>2</td>\n",
       "      <td>2</td>\n",
       "      <td>1</td>\n",
       "      <td>2</td>\n",
       "      <td>1</td>\n",
       "      <td>...</td>\n",
       "      <td>2</td>\n",
       "      <td>0</td>\n",
       "      <td>2</td>\n",
       "      <td>2</td>\n",
       "      <td>1</td>\n",
       "      <td>2</td>\n",
       "      <td>2</td>\n",
       "      <td>2</td>\n",
       "      <td>2</td>\n",
       "      <td>0</td>\n",
       "    </tr>\n",
       "    <tr>\n",
       "      <th>NA20535</th>\n",
       "      <td>2</td>\n",
       "      <td>2</td>\n",
       "      <td>0</td>\n",
       "      <td>0</td>\n",
       "      <td>1</td>\n",
       "      <td>2</td>\n",
       "      <td>2</td>\n",
       "      <td>2</td>\n",
       "      <td>1</td>\n",
       "      <td>1</td>\n",
       "      <td>...</td>\n",
       "      <td>2</td>\n",
       "      <td>1</td>\n",
       "      <td>2</td>\n",
       "      <td>1</td>\n",
       "      <td>2</td>\n",
       "      <td>2</td>\n",
       "      <td>2</td>\n",
       "      <td>2</td>\n",
       "      <td>2</td>\n",
       "      <td>1</td>\n",
       "    </tr>\n",
       "    <tr>\n",
       "      <th>NA20536</th>\n",
       "      <td>2</td>\n",
       "      <td>2</td>\n",
       "      <td>0</td>\n",
       "      <td>1</td>\n",
       "      <td>2</td>\n",
       "      <td>2</td>\n",
       "      <td>2</td>\n",
       "      <td>1</td>\n",
       "      <td>2</td>\n",
       "      <td>1</td>\n",
       "      <td>...</td>\n",
       "      <td>2</td>\n",
       "      <td>0</td>\n",
       "      <td>2</td>\n",
       "      <td>2</td>\n",
       "      <td>2</td>\n",
       "      <td>2</td>\n",
       "      <td>2</td>\n",
       "      <td>2</td>\n",
       "      <td>1</td>\n",
       "      <td>0</td>\n",
       "    </tr>\n",
       "  </tbody>\n",
       "</table>\n",
       "<p>2400 rows × 9425 columns</p>\n",
       "</div>"
      ],
      "text/plain": [
       "         SNP1  SNP2  SNP3  SNP4  SNP5  SNP6  SNP7  SNP8  SNP9  SNP10  ...  \\\n",
       "IID                                                                   ...   \n",
       "HG00096     2     2     0     2     1     2     2     2     2      2  ...   \n",
       "HG00097     2     2     1     2     1     2     2     2     1      2  ...   \n",
       "HG00099     2     2     0     1     1     2     2     2     2      1  ...   \n",
       "HG00100     2     2     0     0     2     2     2     2     1      2  ...   \n",
       "HG00101     2     2     0     2     2     2     2     2     1      2  ...   \n",
       "...       ...   ...   ...   ...   ...   ...   ...   ...   ...    ...  ...   \n",
       "NA20532     2     2     0     1     1     2     2     2     2      2  ...   \n",
       "NA20533     1     2     0     0     1     2     2     2     2      1  ...   \n",
       "NA20534     2     2     0     1     1     2     2     1     2      1  ...   \n",
       "NA20535     2     2     0     0     1     2     2     2     1      1  ...   \n",
       "NA20536     2     2     0     1     2     2     2     1     2      1  ...   \n",
       "\n",
       "         SNP9416  SNP9417  SNP9418  SNP9419  SNP9420  SNP9421  SNP9422  \\\n",
       "IID                                                                      \n",
       "HG00096        2        1        2        2        2        2        2   \n",
       "HG00097        2        1        2        2        2        2        2   \n",
       "HG00099        2        1        2        2        2        2        2   \n",
       "HG00100        2        1        2        2        1        2        2   \n",
       "HG00101        2        1        2        2        2        2        2   \n",
       "...          ...      ...      ...      ...      ...      ...      ...   \n",
       "NA20532        2        1        2        2        2        2        2   \n",
       "NA20533        2        0        2        2        2        2        2   \n",
       "NA20534        2        0        2        2        1        2        2   \n",
       "NA20535        2        1        2        1        2        2        2   \n",
       "NA20536        2        0        2        2        2        2        2   \n",
       "\n",
       "         SNP9423  SNP9424  y  \n",
       "IID                           \n",
       "HG00096        2        2  0  \n",
       "HG00097        2        2  0  \n",
       "HG00099        2        2  0  \n",
       "HG00100        2        1  1  \n",
       "HG00101        2        1  1  \n",
       "...          ...      ... ..  \n",
       "NA20532        2        2  0  \n",
       "NA20533        2        2  0  \n",
       "NA20534        2        2  0  \n",
       "NA20535        2        2  1  \n",
       "NA20536        2        1  0  \n",
       "\n",
       "[2400 rows x 9425 columns]"
      ]
     },
     "execution_count": 100,
     "metadata": {},
     "output_type": "execute_result"
    }
   ],
   "source": [
    "data"
   ]
  },
  {
   "cell_type": "code",
   "execution_count": 95,
   "id": "ab7411e4",
   "metadata": {
    "ExecuteTime": {
     "end_time": "2023-01-06T14:21:35.546575Z",
     "start_time": "2023-01-06T14:21:13.282574Z"
    },
    "collapsed": true,
    "pycharm": {
     "name": "#%%\n"
    }
   },
   "outputs": [
    {
     "name": "stdout",
     "output_type": "stream",
     "text": [
      "750\n",
      "450\n",
      "750\n",
      "450\n",
      "750\n",
      "450\n",
      "750\n",
      "450\n",
      "750\n",
      "450\n"
     ]
    }
   ],
   "source": [
    "iters = 5\n",
    "seeds = [0, 100, 210, 970, 3506, 23525, 32451, 2466, 1242]\n",
    "\n",
    "data = pd.read_csv('../results/1000/dataset.csv', index_col='IID')\n",
    "snp_list = list(data.columns[:-2])\n",
    "\n",
    "for i_iter in range(iters):\n",
    "    data_A, data_B = partition('human1000', data, '4', seeds[i_iter])\n",
    "    print(len(data_A[data_A['y']==0]))\n",
    "    print(len(data_B[data_B['y']==0]))\n",
    "\n",
    "    # for data_A\n",
    "    \n",
    "    A_counts = get_counts(data_A, snp_list) \n",
    "    B_counts = get_counts(data_B, snp_list) \n",
    "\n",
    "    counts = pd.DataFrame(np.vstack((A_counts, B_counts)), \n",
    "                          columns = ['aa1', 'ab1', 'bb1', 'aa0', 'ab0', 'bb0'])\n",
    "    counts['snp'] = snp_list + snp_list\n",
    "    cols = ['snp', 'aa1', 'ab1', 'bb1', 'aa0', 'ab0', 'bb0']\n",
    "    counts = counts.loc[:, cols]\n",
    "    \n",
    "    counts = counts.sample(len(counts))\n",
    "    path = '../results/1000/gwar/sc2/'\n",
    "    if not os.path.isdir(path):\n",
    "        os.makedirs(path)\n",
    "    \n",
    "    counts.to_csv(path + 'test_' + str(i_iter) + '.txt', header = True, index=False, sep='\\t')"
   ]
  },
  {
   "cell_type": "code",
   "execution_count": 96,
   "id": "7049d5f3",
   "metadata": {
    "ExecuteTime": {
     "end_time": "2023-01-06T14:21:58.451441Z",
     "start_time": "2023-01-06T14:21:36.994561Z"
    },
    "collapsed": true,
    "pycharm": {
     "name": "#%%\n"
    }
   },
   "outputs": [
    {
     "name": "stdout",
     "output_type": "stream",
     "text": [
      "900\n",
      "300\n",
      "900\n",
      "300\n",
      "900\n",
      "300\n",
      "900\n",
      "300\n",
      "900\n",
      "300\n"
     ]
    }
   ],
   "source": [
    "iters = 5\n",
    "seeds = [0, 100, 210, 970, 3506, 23525, 32451, 2466, 1242]\n",
    "\n",
    "data = pd.read_csv('../results/1000/dataset.csv', index_col='IID')\n",
    "snp_list = list(data.columns[:-2])\n",
    "\n",
    "for i_iter in range(iters):\n",
    "    data_A, data_B = partition('human1000', data, '3', seeds[i_iter])\n",
    "    print(len(data_A[data_A['y']==0]))\n",
    "    print(len(data_B[data_B['y']==0]))\n",
    "\n",
    "    # for data_A\n",
    "    \n",
    "    A_counts = get_counts(data_A, snp_list) \n",
    "    B_counts = get_counts(data_B, snp_list) \n",
    "\n",
    "    counts = pd.DataFrame(np.vstack((A_counts, B_counts)), \n",
    "                          columns = ['aa1', 'ab1', 'bb1', 'aa0', 'ab0', 'bb0'])\n",
    "    counts['snp'] = snp_list + snp_list\n",
    "    cols = ['snp', 'aa1', 'ab1', 'bb1', 'aa0', 'ab0', 'bb0']\n",
    "    counts = counts.loc[:, cols]\n",
    "    \n",
    "    counts = counts.sample(len(counts))\n",
    "    path = '../results/1000/gwar/sc3/'\n",
    "    if not os.path.isdir(path):\n",
    "        os.makedirs(path)\n",
    "    \n",
    "    counts.to_csv(path + 'test_' + str(i_iter) + '.txt', header = True, index=False, sep='\\t')"
   ]
  },
  {
   "cell_type": "code",
   "execution_count": 146,
   "id": "c542ab7b",
   "metadata": {
    "ExecuteTime": {
     "end_time": "2023-01-02T21:54:32.996844Z",
     "start_time": "2023-01-02T21:54:11.669573Z"
    },
    "pycharm": {
     "name": "#%%\n"
    }
   },
   "outputs": [],
   "source": [
    "iters = 5\n",
    "seeds = [0, 100, 210, 970, 3506, 23525, 32451, 2466, 1242]\n",
    "\n",
    "data = pd.read_csv('../results/1000/dataset.csv', index_col='IID')\n",
    "snp_list = list(data.columns[:-2])\n",
    "\n",
    "for i_iter in range(iters):\n",
    "    data_A, data_B = partition('human1000', data, '5', seeds[i_iter])\n",
    "    \n",
    "    # for data_A\n",
    "    \n",
    "    A_counts = get_counts(data_A, snp_list) \n",
    "    B_counts = get_counts(data_B, snp_list) \n",
    "\n",
    "    counts = pd.DataFrame(np.vstack((A_counts, B_counts)), \n",
    "                          columns = ['aa1', 'ab1', 'bb1', 'aa0', 'ab0', 'bb0'])\n",
    "    counts['snp'] = snp_list + snp_list\n",
    "    cols = ['snp', 'aa1', 'ab1', 'bb1', 'aa0', 'ab0', 'bb0']\n",
    "    counts = counts.loc[:, cols]\n",
    "    \n",
    "    counts = counts.sample(len(counts))\n",
    "    path = '../results/1000/gwar/sc3/'\n",
    "    if not os.path.isdir(path):\n",
    "        os.makedirs(path)\n",
    "    \n",
    "    counts.to_csv(path + 'test_' + str(i_iter) + '.txt', header = True, index=False, sep='\\t')"
   ]
  },
  {
   "cell_type": "markdown",
   "id": "2afe9d1a",
   "metadata": {
    "pycharm": {
     "name": "#%% md\n"
    }
   },
   "source": [
    "# Evaluations"
   ]
  },
  {
   "cell_type": "code",
   "execution_count": 10,
   "id": "20887aae",
   "metadata": {
    "ExecuteTime": {
     "end_time": "2023-01-07T22:27:55.255991Z",
     "start_time": "2023-01-07T22:27:55.249568Z"
    },
    "pycharm": {
     "name": "#%%\n"
    }
   },
   "outputs": [],
   "source": [
    "from sklearn.metrics import recall_score, precision_score, accuracy_score\n",
    "import itertools"
   ]
  },
  {
   "cell_type": "code",
   "execution_count": 23,
   "id": "1a8e9744",
   "metadata": {
    "ExecuteTime": {
     "end_time": "2023-01-07T22:33:34.163644Z",
     "start_time": "2023-01-07T22:33:34.150242Z"
    },
    "pycharm": {
     "name": "#%%\n"
    }
   },
   "outputs": [],
   "source": [
    "def get_gt_pval(data):\n",
    "    p_value = get_pvalues(data)\n",
    "    group_1 = data.columns[np.where(p_value<=0.005)[0]] #  significant\n",
    "    group_2 = data.columns[np.where((p_value>0.005))] #  insignificant\n",
    "    \n",
    "    gp1 = dict(zip(group_1, [1 for _ in range(len(group_1))]))\n",
    "    gp2 = dict(zip(group_2, [0 for _ in range(len(group_2))]))\n",
    "    \n",
    "    groups = {**gp1, **gp2}\n",
    "    gt_pval = pd.DataFrame({'SNP': data.columns[:-2], 'p_value': p_value })\n",
    "\n",
    "    gt_pval['Label'] = gt_pval['SNP'].map(groups)\n",
    "    \n",
    "    return gt_pval"
   ]
  },
  {
   "cell_type": "code",
   "execution_count": 42,
   "id": "22f95616",
   "metadata": {
    "ExecuteTime": {
     "end_time": "2023-01-07T22:41:58.966304Z",
     "start_time": "2023-01-07T22:41:58.928091Z"
    },
    "pycharm": {
     "name": "#%%\n"
    }
   },
   "outputs": [],
   "source": [
    "def compute_metrics(dataset, result_path, method, thresholds,batch_size,p_thre, file_path):\n",
    "    \n",
    "    if dataset == 'human1000':\n",
    "        if method == 'gwar':\n",
    "            prcs = np.zeros((5,6))\n",
    "            recall = np.zeros((5,6))\n",
    "            for idx, sc in enumerate(['sc1', 'sc2', 'sc3', 'sc4', 'sc5']):\n",
    "                gt_pval = pd.read_csv('../results/1000/' + sc + '/gt_pval.csv')\n",
    "                for i_iter in range(5):\n",
    "                    res = pd.read_csv(result_path + sc + '/test_' + str(i_iter) + 'results.txt', sep = '\\t', header=None)\n",
    "                    res.columns = ['SNP', 'p_value']\n",
    "                    res = res.set_index('SNP')\n",
    "                    res['indexNumber'] = [int(i.split('P')[-1]) for i in res.index]\n",
    "                    res.sort_values('indexNumber',inplace=True, ascending=True)# Deletion of the added column\n",
    "                    res.drop('indexNumber', 1, inplace = True)\n",
    "\n",
    "                    res['pred'] = pd.cut(res['p_value'], bins=[-0.00001] + list(thresholds.values())[:-1] + [float('inf')],\n",
    "                                labels=list(thresholds.keys()))\n",
    "                    prcs[idx,i_iter] = precision_score(gt_pval['Label'],res['pred'], pos_label = 0)\n",
    "                    recall[idx,i_iter] = recall_score(gt_pval['Label'],res['pred'], pos_label = 1)\n",
    "            prcs[:,-1] = np.mean(prcs[:,:-1], axis=1)\n",
    "            recall[:,-1] = np.mean(recall[:,:-1], axis=1)\n",
    "\n",
    "            np.savetxt(file_path + 'overall_precision.txt', prcs)\n",
    "            np.savetxt(file_path + 'overall_recall.txt', recall)\n",
    "        else:\n",
    "            prcs_1 = np.zeros((int(len(batch_size)*len(p_thre)),9))\n",
    "            recall_1 = np.zeros((int(len(batch_size)*len(p_thre)),9))\n",
    "\n",
    "            prcs_2 = np.zeros((int(len(batch_size)*len(p_thre)),9))\n",
    "            recall_2 = np.zeros((int(len(batch_size)*len(p_thre)),9))\n",
    "\n",
    "            tn = np.zeros((5, len(p_thre)))\n",
    "            fn = np.zeros((5, len(p_thre)))\n",
    "\n",
    "            for s_idx, sc in enumerate(['sc1', 'sc2', 'sc3', 'sc4', 'sc5']):\n",
    "                gt_pval = pd.read_csv('../results/1000/' + sc + '/gt_pval.csv')\n",
    "\n",
    "                prcs_overall = np.zeros((5,9))\n",
    "                recall_overall = np.zeros((5,9))\n",
    "\n",
    "                prcs_step2 = np.zeros((5,9))\n",
    "                recall_step2 = np.zeros((5,9))\n",
    "                for idx, (batch, p) in enumerate(list(itertools.product(batch_size, p_thre))):\n",
    "                    for i_iter in range(5):\n",
    "                        all_label = pd.read_csv(result_path+sc+'/' + 'test'+str(i_iter)+'/' + str(p) + '/step2/'+\n",
    "                                                 str(batch) +'/all_pred.csv')\n",
    "                        vote_label = pd.read_csv(result_path+sc+'/' + 'test'+str(i_iter)+'/' + str(p) + '/step2/'+\n",
    "                                                 str(batch) +'/vote_label.csv')\n",
    "\n",
    "                        prcs_overall[i_iter, :] = [precision_score(gt_pval['Label'], all_label.fillna(1)[str(i+1)], pos_label=0) for i in range(9)]\n",
    "                        recall_overall[i_iter, :] = [recall_score(gt_pval['Label'], all_label.fillna(1)[str(i+1)], pos_label=1) for i in range(9)]\n",
    "\n",
    "\n",
    "                        gt_pval[gt_pval.index.isin(vote_label.index)]\n",
    "                        prcs_step2[i_iter, :] = [precision_score(gt_pval[gt_pval.set_index('SNP').index.isin(vote_label.set_index('SNP').index)]['Label'],\n",
    "                                                                 vote_label.fillna(1)[str(i+1)], pos_label=0) for i in range(9)]\n",
    "                        recall_step2[i_iter, :] = [recall_score(gt_pval[gt_pval.set_index('SNP').index.isin(vote_label.set_index('SNP').index)]['Label'],\n",
    "                                                                vote_label.fillna(1)[str(i+1)], pos_label=1) for i in range(9)]\n",
    "\n",
    "\n",
    "                    prcs_1[idx,:] = np.mean(prcs_overall,axis = 0)\n",
    "                    recall_1[idx,:] = np.mean(recall_overall,axis = 0)\n",
    "\n",
    "                    prcs_2[idx,:] = np.mean(prcs_step2,axis = 0)\n",
    "                    recall_2[idx,:] = np.mean(recall_step2,axis = 0)\n",
    "\n",
    "\n",
    "                tn_ = np.zeros((5, len(p_thre)))\n",
    "                fn_ = np.zeros((5, len(p_thre)))\n",
    "\n",
    "                for idx, p in enumerate(p_thre):\n",
    "                    for i_iter in range(5):\n",
    "                        step1_pre = pd.read_csv(result_path+sc+'/' + 'test'+str(i_iter)+'/' + str(p) + '/step1/'+ \n",
    "                                                '/p_A_label.csv')\n",
    "\n",
    "                        truene, _, falsene, _ = confusion_matrix( gt_pval['Label'], step1_pre['predict_label']).ravel()\n",
    "                        tn_[i_iter,idx] = truene\n",
    "                        fn_[i_iter,idx] = falsene\n",
    "\n",
    "                tn[s_idx,:] = np.mean(tn_, axis = 0)\n",
    "                fn[s_idx,:] = np.mean(fn_, axis = 0)\n",
    "\n",
    "                np.savetxt(file_path+ sc +'/overall_precision.txt',prcs_1)\n",
    "                np.savetxt(file_path+ sc +'/overall_recall.txt',recall_1)\n",
    "\n",
    "                np.savetxt(file_path+ sc +'/step2_precision.txt',prcs_2)\n",
    "                np.savetxt(file_path+ sc +'/step2_recall.txt',recall_2)\n",
    "\n",
    "            np.savetxt(file_path +'/step1_tn.txt',tn)\n",
    "            np.savetxt(file_path +'/step1_fn.txt',fn)\n",
    "    else:\n",
    "        if method == 'gwar':\n",
    "            prcs = np.zeros((1,6))\n",
    "            recall = np.zeros((1,6))\n",
    "            for i_iter in range(5):\n",
    "                res = pd.read_csv(result_path  + '/test_' + str(i_iter) + 'results.txt', sep = '\\t', header=None)\n",
    "                res.columns = ['SNP', 'p_value']\n",
    "                res = res.merge(gt_pval, how = 'right', on='SNP').drop(['p_value_y', 'Label'], 1).fillna(2)\n",
    "                res.columns = ['SNP', 'p_value']\n",
    "                \n",
    "                res['pred'] = pd.cut(res['p_value'], bins=[-0.000001] + list(thresholds.values())[:-1] + [float('inf')],\n",
    "                            labels=list(thresholds.keys()))\n",
    "                prcs[0,i_iter] = precision_score(gt_pval['Label'],res['pred'], pos_label = 0)\n",
    "                recall[0,i_iter] = recall_score(gt_pval['Label'],res['pred'], pos_label = 1)\n",
    "            prcs[0,-1] = np.mean(prcs[:,:-1], axis=1)\n",
    "            recall[0,-1] = np.mean(recall[:,:-1], axis=1)\n",
    "\n",
    "            np.savetxt(file_path + 'overall_precision.txt', prcs)\n",
    "            np.savetxt(file_path + 'overall_recall.txt', recall)\n",
    "        else:\n",
    "            prcs_1 = np.zeros((int(len(batch_size)*len(p_thre)),9))\n",
    "            recall_1 = np.zeros((int(len(batch_size)*len(p_thre)),9))\n",
    "\n",
    "            prcs_2 = np.zeros((int(len(batch_size)*len(p_thre)),9))\n",
    "            recall_2 = np.zeros((int(len(batch_size)*len(p_thre)),9))\n",
    "\n",
    "            tn = np.zeros((1, len(p_thre)))\n",
    "            fn = np.zeros((1, len(p_thre)))\n",
    "\n",
    "            \n",
    "            prcs_overall = np.zeros((5,9))\n",
    "            recall_overall = np.zeros((5,9))\n",
    "\n",
    "            prcs_step2 = np.zeros((5,9))\n",
    "            recall_step2 = np.zeros((5,9))\n",
    "            for idx, (batch, p) in enumerate(list(itertools.product(batch_size, p_thre))):\n",
    "                for i_iter in range(5):\n",
    "                    all_label = pd.read_csv(result_path+'/' + 'test'+str(i_iter)+'/' + str(p) + '/step2/'+\n",
    "                                             str(batch) +'/all_pred.csv')\n",
    "                    vote_label = pd.read_csv(result_path+'/' + 'test'+str(i_iter)+'/' + str(p) + '/step2/'+\n",
    "                                             str(batch) +'/vote_label.csv')\n",
    "\n",
    "                    prcs_overall[i_iter, :] = [precision_score(gt_pval['Label'], all_label.fillna(1)[str(i+1)], pos_label=0) for i in range(9)]\n",
    "                    recall_overall[i_iter, :] = [recall_score(gt_pval['Label'], all_label.fillna(1)[str(i+1)], pos_label=1) for i in range(9)]\n",
    "\n",
    "\n",
    "                    gt_pval[gt_pval.index.isin(vote_label.index)]\n",
    "                    prcs_step2[i_iter, :] = [precision_score(gt_pval[gt_pval.set_index('SNP').index.isin(vote_label.set_index('SNP').index)]['Label'],\n",
    "                                                             vote_label.fillna(1)[str(i+1)], pos_label=0) for i in range(9)]\n",
    "                    recall_step2[i_iter, :] = [recall_score(gt_pval[gt_pval.set_index('SNP').index.isin(vote_label.set_index('SNP').index)]['Label'],\n",
    "                                                            vote_label.fillna(1)[str(i+1)], pos_label=1) for i in range(9)]\n",
    "\n",
    "\n",
    "                prcs_1[idx,:] = np.mean(prcs_overall,axis = 0)\n",
    "                recall_1[idx,:] = np.mean(recall_overall,axis = 0)\n",
    "\n",
    "                prcs_2[idx,:] = np.mean(prcs_step2,axis = 0)\n",
    "                recall_2[idx,:] = np.mean(recall_step2,axis = 0)\n",
    "\n",
    "\n",
    "            tn_ = np.zeros((5, len(p_thre)))\n",
    "            fn_ = np.zeros((5, len(p_thre)))\n",
    "\n",
    "            for idx, p in enumerate(p_thre):\n",
    "                for i_iter in range(5):\n",
    "                    step1_pre = pd.read_csv(result_path+'/' + 'test'+str(i_iter)+'/' + str(p) + '/step1/'+ \n",
    "                                            '/p_A_label.csv')\n",
    "\n",
    "                    truene, _, falsene, _ = confusion_matrix( gt_pval['Label'], step1_pre['predict_label']).ravel()\n",
    "                    tn_[i_iter,idx] = truene\n",
    "                    fn_[i_iter,idx] = falsene\n",
    "\n",
    "            tn[0,:] = np.mean(tn_, axis = 0)\n",
    "            fn[0,:] = np.mean(fn_, axis = 0)\n",
    "\n",
    "            np.savetxt(file_path +'/overall_precision.txt',prcs_1)\n",
    "            np.savetxt(file_path +'/overall_recall.txt',recall_1)\n",
    "\n",
    "            np.savetxt(file_path +'/step2_precision.txt',prcs_2)\n",
    "            np.savetxt(file_path +'/step2_recall.txt',recall_2)\n",
    "\n",
    "            np.savetxt(file_path +'/step1_tn.txt',tn)\n",
    "            np.savetxt(file_path +'/step1_fn.txt',fn)\n"
   ]
  },
  {
   "cell_type": "code",
   "execution_count": 47,
   "id": "2d763859",
   "metadata": {
    "ExecuteTime": {
     "end_time": "2023-01-07T22:45:31.646400Z",
     "start_time": "2023-01-07T22:43:35.363794Z"
    },
    "pycharm": {
     "name": "#%%\n"
    }
   },
   "outputs": [],
   "source": [
    "compute_metrics('human1000', '../results/1000/', 'ours', thresholds,batch_size, p_thre, '../results/1000/'  )"
   ]
  },
  {
   "cell_type": "markdown",
   "id": "0fe99913",
   "metadata": {
    "ExecuteTime": {
     "end_time": "2023-01-04T14:53:54.060030Z",
     "start_time": "2023-01-04T14:53:54.045497Z"
    },
    "pycharm": {
     "name": "#%% md\n"
    }
   },
   "source": [
    "# Graphs"
   ]
  },
  {
   "cell_type": "code",
   "execution_count": 79,
   "id": "91b69c18",
   "metadata": {
    "ExecuteTime": {
     "end_time": "2023-01-19T00:30:51.368958Z",
     "start_time": "2023-01-19T00:30:51.362082Z"
    },
    "pycharm": {
     "name": "#%%\n"
    }
   },
   "outputs": [],
   "source": [
    "font = {'family' : 'Times New Roman',\n",
    "        'size'   : 24}\n",
    "plt.rc('font', **font)\n",
    "markers = ['o', 'v', '>', 'p', '1', '*', 's', 'p', 'h', '+', 'o', '+']\n",
    "colrs = [ '#2a9d8f', '#8ab17d', '#f4a261', '#e76f51' , '#264653', '#7f5539', '#8f2d56', '#363073']"
   ]
  },
  {
   "cell_type": "code",
   "execution_count": 80,
   "id": "9af2634a",
   "metadata": {
    "ExecuteTime": {
     "end_time": "2023-01-19T00:30:51.702841Z",
     "start_time": "2023-01-19T00:30:51.697092Z"
    },
    "pycharm": {
     "name": "#%%\n"
    }
   },
   "outputs": [],
   "source": [
    "iters = 5\n",
    "batch_size = [100, 300, 500, 700, 900, 1100]\n",
    "p_thre = [0.005, 0.1, 0.15, 0.2, 0.25, 0.3]\n",
    "seeds = [0, 100, 210, 970, 3506, 23525, 32451, 2466, 1242]\n"
   ]
  },
  {
   "cell_type": "code",
   "execution_count": 81,
   "id": "c6ff0951",
   "metadata": {
    "ExecuteTime": {
     "end_time": "2023-01-19T00:30:51.973920Z",
     "start_time": "2023-01-19T00:30:51.967715Z"
    },
    "pycharm": {
     "name": "#%%\n"
    }
   },
   "outputs": [],
   "source": [
    "labels = []\n",
    "for idx, (batch, p) in enumerate(list(itertools.product(batch_size, p_thre))):\n",
    "    labels.append(r'K = ' + str(batch) + ' & ' + r'$\\mu$ = ' + str(p))"
   ]
  },
  {
   "cell_type": "code",
   "execution_count": 82,
   "id": "6135fd3e",
   "metadata": {
    "ExecuteTime": {
     "end_time": "2023-01-19T00:30:52.270434Z",
     "start_time": "2023-01-19T00:30:52.261817Z"
    },
    "collapsed": true,
    "pycharm": {
     "name": "#%%\n"
    }
   },
   "outputs": [
    {
     "data": {
      "text/plain": [
       "['K = 100 & $\\\\mu$ = 0.005',\n",
       " 'K = 100 & $\\\\mu$ = 0.1',\n",
       " 'K = 100 & $\\\\mu$ = 0.15',\n",
       " 'K = 100 & $\\\\mu$ = 0.2',\n",
       " 'K = 100 & $\\\\mu$ = 0.25',\n",
       " 'K = 100 & $\\\\mu$ = 0.3',\n",
       " 'K = 300 & $\\\\mu$ = 0.005',\n",
       " 'K = 300 & $\\\\mu$ = 0.1',\n",
       " 'K = 300 & $\\\\mu$ = 0.15',\n",
       " 'K = 300 & $\\\\mu$ = 0.2',\n",
       " 'K = 300 & $\\\\mu$ = 0.25',\n",
       " 'K = 300 & $\\\\mu$ = 0.3',\n",
       " 'K = 500 & $\\\\mu$ = 0.005',\n",
       " 'K = 500 & $\\\\mu$ = 0.1',\n",
       " 'K = 500 & $\\\\mu$ = 0.15',\n",
       " 'K = 500 & $\\\\mu$ = 0.2',\n",
       " 'K = 500 & $\\\\mu$ = 0.25',\n",
       " 'K = 500 & $\\\\mu$ = 0.3',\n",
       " 'K = 700 & $\\\\mu$ = 0.005',\n",
       " 'K = 700 & $\\\\mu$ = 0.1',\n",
       " 'K = 700 & $\\\\mu$ = 0.15',\n",
       " 'K = 700 & $\\\\mu$ = 0.2',\n",
       " 'K = 700 & $\\\\mu$ = 0.25',\n",
       " 'K = 700 & $\\\\mu$ = 0.3',\n",
       " 'K = 900 & $\\\\mu$ = 0.005',\n",
       " 'K = 900 & $\\\\mu$ = 0.1',\n",
       " 'K = 900 & $\\\\mu$ = 0.15',\n",
       " 'K = 900 & $\\\\mu$ = 0.2',\n",
       " 'K = 900 & $\\\\mu$ = 0.25',\n",
       " 'K = 900 & $\\\\mu$ = 0.3',\n",
       " 'K = 1100 & $\\\\mu$ = 0.005',\n",
       " 'K = 1100 & $\\\\mu$ = 0.1',\n",
       " 'K = 1100 & $\\\\mu$ = 0.15',\n",
       " 'K = 1100 & $\\\\mu$ = 0.2',\n",
       " 'K = 1100 & $\\\\mu$ = 0.25',\n",
       " 'K = 1100 & $\\\\mu$ = 0.3']"
      ]
     },
     "execution_count": 82,
     "metadata": {},
     "output_type": "execute_result"
    }
   ],
   "source": [
    "labels"
   ]
  },
  {
   "cell_type": "markdown",
   "id": "097e9523",
   "metadata": {
    "ExecuteTime": {
     "end_time": "2023-01-04T18:18:08.138863Z",
     "start_time": "2023-01-04T18:18:08.135566Z"
    },
    "pycharm": {
     "name": "#%% md\n"
    }
   },
   "source": [
    "## Overall"
   ]
  },
  {
   "cell_type": "code",
   "execution_count": 50,
   "id": "11bf99e7",
   "metadata": {
    "ExecuteTime": {
     "end_time": "2023-01-18T20:31:56.173311Z",
     "start_time": "2023-01-18T20:31:56.150045Z"
    },
    "pycharm": {
     "name": "#%%\n"
    }
   },
   "outputs": [],
   "source": [
    "idx_list = [10, 11, 16, 17]\n",
    "#idx_list = [4, 5, 10, 11, 16, 17, 22, 23, 28,29, 34, 35 ]\n",
    "selected_label = ['TDS (' + labels[i] + ')' for i in idx_list]\n",
    "\n",
    "all_recall = np.zeros((5,4))\n",
    "all_pre = np.zeros((5,4))\n",
    "\n",
    "recall_list = []\n",
    "pre_list = []\n",
    "for idx, sc in enumerate(['sc1', 'sc2', 'sc3', 'sc4', 'sc5']):\n",
    "    recall = np.loadtxt('../results/1000/' + sc +'/overall_recall.txt')\n",
    "    precision = np.loadtxt('../results/1000/' + sc +'/overall_precision.txt')\n",
    "    \n",
    "    all_recall[idx,:] = recall[idx_list,np.argmax(recall[idx_list], axis=1) ]\n",
    "    all_pre[idx, :] = precision[idx_list, np.argmax(precision[idx_list], axis=1)]\n",
    "    \n",
    "    recall_list.append(np.argmax(recall[idx_list],axis=1))\n",
    "    pre_list.append(np.argmax(precision[idx_list],axis=1))\n",
    "\n",
    "    \n",
    "gwar_recall = np.loadtxt('../results/1000/gwar/overall_recall.txt')\n",
    "gwar_precesion =  np.loadtxt('../results/1000/gwar/overall_precision.txt')\n",
    "\n",
    "all_recall = all_recall.transpose()\n",
    "all_pre = all_pre.transpose()"
   ]
  },
  {
   "cell_type": "code",
   "execution_count": 132,
   "id": "ba846711",
   "metadata": {
    "ExecuteTime": {
     "end_time": "2023-01-20T00:06:28.735781Z",
     "start_time": "2023-01-20T00:06:27.847678Z"
    },
    "pycharm": {
     "name": "#%%\n"
    }
   },
   "outputs": [
    {
     "data": {
      "image/png": "[encoded data removed]",
      "text/plain": [
       "<Figure size 720x1152 with 2 Axes>"
      ]
     },
     "metadata": {
      "needs_background": "light"
     },
     "output_type": "display_data"
    }
   ],
   "source": [
    "f1, axs1 = plt.subplots(2, 1, figsize=(10, 16))\n",
    "axs1 = axs1.ravel()\n",
    "\n",
    "metrics = ['Sensitivity', 'Specificity']\n",
    "\n",
    "for i, res in enumerate([recall, precision]):\n",
    "    if i==0:\n",
    "        for index, label in enumerate(selected_label):\n",
    "            axs1[i].plot([('SC ' + str(i_iter+1)) for i_iter in range(3)] , all_recall[index,[0,1,2]], lw=3,\n",
    "                         marker = markers[index], markersize = 10, markeredgewidth=3,color=colrs[index],\n",
    "                         linestyle='--',markerfacecolor=\"None\",\n",
    "                     label=label)\n",
    "        axs1[i].plot([('SC ' + str(i_iter+1)) for i_iter in range(3)],gwar_recall[[0, 1,2],-1], color='#264653', \n",
    "                     linestyle='--', lw=3, label = r'$\\it{GWAR}$')\n",
    "\n",
    "        axs1[i].set_xlabel('Level of between-study heterogeneity')\n",
    "        axs1[i].set_ylabel('%s' %(metrics[i]))\n",
    "       #axs1[i].set_title('%s' %(metrics[i]))\n",
    "    else:\n",
    "        for index, label in enumerate(selected_label):\n",
    "            axs1[i].plot([('SC ' + str(i_iter+1)) for i_iter in range(3)] , all_pre[index,[0,1,2]],\n",
    "                         marker = markers[index], markersize =10, markeredgewidth=3,color=colrs[index],\n",
    "                         linestyle='--', lw = 3,markerfacecolor=\"None\",\n",
    "                     label=label)\n",
    "        axs1[i].plot([('SC ' + str(i_iter+1)) for i_iter in range(3)],gwar_precesion[[0, 1,2],-1],lw=3, \n",
    "                     color='#264653', linestyle='--', label = r'$\\it{GWAR}$')\n",
    "\n",
    "        axs1[i].set_xlabel('Level of between-study heterogeneity')\n",
    "        axs1[i].set_ylabel('Specificity')\n",
    "        #axs1[i].set_title('%s' %(metrics[i]))\n",
    "\n",
    "    #axs1[i].title('Receiver operating characteristic for multi-class data')\n",
    "   # axs1[i].legend(loc=\"best\")\n",
    "    \n",
    "   # if i > 0 :\n",
    "    #    axs1[i].set_ylabel('')\n",
    "  #      axs1[i].set_xticks([])\n",
    "        \n",
    "  #  if i == 1 or i == 3:\n",
    "   #     axs1[i].set_ylabel('')\n",
    "    for spine in ['top', 'right']:  \n",
    "        axs1[i].spines[spine].set_visible(False)\n",
    "    for spine in ['left', 'bottom']: \n",
    "        axs1[i].spines[spine].set_edgecolor('gray')\n",
    "\n",
    "    #axs1[i].title('Receiver operating characteristic for multi-class data')\n",
    "    \n",
    "    #axs1[i].legend(loc=\"lower right\")\n",
    "    if i==0:\n",
    "        axs1[i].legend(loc=(0.1, 1),ncol=1)\n",
    "plt.subplots_adjust(wspace=0.05,hspace=0.35)\n",
    "plt.savefig('../paper_codes/overall_123.jpg', dpi= 400, bbox_inches = \"tight\")\n",
    "plt.show()"
   ]
  },
  {
   "cell_type": "code",
   "execution_count": 72,
   "id": "6ee9b37c",
   "metadata": {
    "ExecuteTime": {
     "end_time": "2023-01-18T20:37:53.867461Z",
     "start_time": "2023-01-18T20:37:53.856466Z"
    },
    "pycharm": {
     "name": "#%%\n"
    }
   },
   "outputs": [],
   "source": [
    "idx_list = [10, 11, 16, 17]\n",
    "#idx_list = [4, 5, 10, 11, 16, 17, 22, 23, 28,29, 34, 35 ]\n",
    "selected_label = ['TSIF (' + labels[i] + ')' for i in idx_list]     "
   ]
  },
  {
   "cell_type": "code",
   "execution_count": 74,
   "id": "7dfea076",
   "metadata": {
    "ExecuteTime": {
     "end_time": "2023-01-18T20:37:58.868784Z",
     "start_time": "2023-01-18T20:37:58.849908Z"
    },
    "pycharm": {
     "name": "#%%\n"
    }
   },
   "outputs": [],
   "source": [
    "all_recall = np.zeros((5,4))\n",
    "all_pre = np.zeros((5,4))\n",
    "\n",
    "recall_list = []\n",
    "pre_list = []\n",
    "for idx, sc in enumerate(['sc1', 'sc2', 'sc3', 'sc4', 'sc5']):\n",
    "    recall = np.loadtxt('../results/1000/' + sc +'/overall_recall.txt')\n",
    "    precision = np.loadtxt('../results/1000/' + sc +'/overall_precision.txt')\n",
    "    \n",
    "    all_recall[idx,:] = recall[idx_list,np.argmax(recall[idx_list], axis=1) ]\n",
    "    all_pre[idx, :] = precision[idx_list, np.argmax(precision[idx_list], axis=1)]\n",
    "    \n",
    "    recall_list.append(np.argmax(recall[idx_list],axis=1))\n",
    "    pre_list.append(np.argmax(precision[idx_list],axis=1))\n",
    "\n",
    "    \n",
    "gwar_recall = np.loadtxt('../results/1000/gwar/overall_recall.txt')\n",
    "gwar_precesion =  np.loadtxt('../results/1000/gwar/overall_precision.txt')\n",
    "\n",
    "all_recall = all_recall.transpose()\n",
    "all_pre = all_pre.transpose()"
   ]
  },
  {
   "cell_type": "markdown",
   "id": "0d3a8ea0",
   "metadata": {
    "pycharm": {
     "name": "#%% md\n"
    }
   },
   "source": [
    "## Step2"
   ]
  },
  {
   "cell_type": "code",
   "execution_count": 103,
   "id": "5089da96",
   "metadata": {
    "ExecuteTime": {
     "end_time": "2023-01-19T02:20:23.471356Z",
     "start_time": "2023-01-19T02:20:23.465122Z"
    },
    "pycharm": {
     "name": "#%%\n"
    }
   },
   "outputs": [],
   "source": [
    "#idx_list = [10, 11, 16, 17]\n",
    "idx_list = [10, 11, 12, 17]\n",
    "selected_label = [r'$\\it{TDS}$ (' + labels[i] + ')' for i in idx_list]"
   ]
  },
  {
   "cell_type": "code",
   "execution_count": 134,
   "id": "362f8fbd",
   "metadata": {
    "ExecuteTime": {
     "end_time": "2023-01-20T00:16:17.978370Z",
     "start_time": "2023-01-20T00:16:17.109833Z"
    },
    "scrolled": false,
    "pycharm": {
     "name": "#%%\n"
    }
   },
   "outputs": [
    {
     "data": {
      "image/png": "[encoded data removed]",
      "text/plain": [
       "<Figure size 2160x360 with 5 Axes>"
      ]
     },
     "metadata": {
      "needs_background": "light"
     },
     "output_type": "display_data"
    }
   ],
   "source": [
    "metrics = ['Sensitivity', 'Specificity']\n",
    "f1, axs1 = plt.subplots(1, 5, figsize=(30, 5), sharey=True)\n",
    "axs1 = axs1.ravel()\n",
    "for i, sc in enumerate(['sc1', 'sc2', 'sc3', 'sc4', 'sc5']):\n",
    "    recall = np.loadtxt('../results/1000/' + sc +'/step2_recall.txt')\n",
    "    #precision = np.loadtxt('../results/1000/' + sc +'/step2_precision.txt')\n",
    "    \n",
    "    #metrics = ['Recall', 'Specificity']\n",
    "   # f1, axs1 = plt.subplots(1, 2, figsize=(16, 5))\n",
    "   # axs1 = axs1.ravel()\n",
    "    \n",
    "    #for i, res in enumerate([recall,]):\n",
    "    for index, label in enumerate(selected_label):\n",
    "        axs1[i].plot([(i_iter+1) for i_iter in range(len(seeds))] , recall[idx_list[index]], lw=3,\n",
    "                      marker = markers[index], markersize = 10, markeredgewidth=3,\n",
    "                     linestyle='--', color = colrs[index],markerfacecolor=\"None\",\n",
    "                 label=label)\n",
    "\n",
    "   # axs1[i].set_xlabel('Number of iterations')\n",
    "    axs1[i].set_ylabel('Sensitivity')\n",
    "    axs1[i].set_title('%s' %('Scenario ' + str(i+1)))\n",
    "    axs1[i].set_xlim([0, 8])\n",
    "\n",
    "\n",
    "    #axs1[i].title('Receiver operating characteristic for multi-class data')\n",
    "   # axs1[i].legend(loc=\"best\")\n",
    "\n",
    "    if i > 0 :\n",
    "        axs1[i].set_ylabel('')\n",
    "  #      axs1[i].set_xticks([])\n",
    "\n",
    "  #  if i == 1 or i == 3:\n",
    "   #     axs1[i].set_ylabel('')\n",
    "    for spine in ['left']: \n",
    "        axs1[i].spines[spine].set_edgecolor('gray')\n",
    "   \n",
    "            \n",
    "    for spine in ['top', 'right']:  \n",
    "        axs1[i].spines[spine].set_visible(False)\n",
    "        \n",
    "    for spine in ['bottom']: \n",
    "            axs1[i].spines[spine].set_edgecolor('gray')\n",
    "\n",
    "    #axs1[i].title('Receiver operating characteristic for multi-class data')\n",
    "\n",
    "    #axs1[i].legend(loc=\"lower right\")\n",
    "    if i==0:\n",
    "        axs1[i].legend(loc=(0.3, 1.2),ncol=4)\n",
    "plt.subplots_adjust(wspace=0.1,hspace=0.05)\n",
    "plt.savefig('../paper_codes/step2_recall.jpg', dpi= 400, bbox_inches = \"tight\")\n",
    "\n",
    "plt.show()\n"
   ]
  },
  {
   "cell_type": "code",
   "execution_count": 70,
   "id": "ebfbe2c8",
   "metadata": {
    "ExecuteTime": {
     "end_time": "2023-01-18T20:35:30.034627Z",
     "start_time": "2023-01-18T20:35:29.353673Z"
    },
    "pycharm": {
     "name": "#%%\n"
    }
   },
   "outputs": [
    {
     "data": {
      "image/png": "[encoded data removed]",
      "text/plain": [
       "<Figure size 2160x360 with 5 Axes>"
      ]
     },
     "metadata": {
      "needs_background": "light"
     },
     "output_type": "display_data"
    }
   ],
   "source": [
    "metrics = ['Recall', 'Specificity']\n",
    "f1, axs1 = plt.subplots(1, 5, figsize=(30, 5), sharey=True)\n",
    "axs1 = axs1.ravel()\n",
    "for i, sc in enumerate(['sc1', 'sc2', 'sc3', 'sc4', 'sc5']):\n",
    "   # recall = np.loadtxt('../results/1000/' + sc +'/step2_recall.txt')\n",
    "    precision = np.loadtxt('../results/1000/' + sc +'/step2_precision.txt')\n",
    "    \n",
    "    #metrics = ['Recall', 'Specificity']\n",
    "   # f1, axs1 = plt.subplots(1, 2, figsize=(16, 5))\n",
    "   # axs1 = axs1.ravel()\n",
    "    \n",
    "    #for i, res in enumerate([recall,]):\n",
    "    for index, label in enumerate(selected_label):\n",
    "        axs1[i].plot([(i_iter+1) for i_iter in range(len(seeds))] , recall[idx_list[index]], lw=3,\n",
    "                      marker = markers[index], markersize = 10, markeredgewidth=3,\n",
    "                     linestyle='--', color = colrs[index],markerfacecolor=\"None\",\n",
    "                 label=label)\n",
    "\n",
    "    axs1[i].set_xlabel('Number of iterations')\n",
    "    axs1[i].set_ylabel('Specificity')\n",
    "   # axs1[i].set_title('%s' %('Scenario ' + str(i+1)))\n",
    "    axs1[i].set_xlim([0, 8])\n",
    "\n",
    "\n",
    "    #axs1[i].title('Receiver operating characteristic for multi-class data')\n",
    "   # axs1[i].legend(loc=\"best\")\n",
    "\n",
    "    if i > 0 :\n",
    "        axs1[i].set_ylabel('')\n",
    "  #      axs1[i].set_xticks([])\n",
    "\n",
    "  #  if i == 1 or i == 3:\n",
    "   #     axs1[i].set_ylabel('')\n",
    "\n",
    "    \n",
    "    for spine in ['left']: \n",
    "        axs1[i].spines[spine].set_edgecolor('gray')\n",
    "   \n",
    "            \n",
    "    for spine in ['top', 'right']:  \n",
    "        axs1[i].spines[spine].set_visible(False)\n",
    "        \n",
    "    for spine in ['bottom']: \n",
    "            axs1[i].spines[spine].set_edgecolor('gray')\n",
    "   \n",
    "    #axs1[i].title('Receiver operating characteristic for multi-class data')\n",
    "\n",
    "    #axs1[i].legend(loc=\"lower right\")\n",
    "  #  if i==0:\n",
    "   #     axs1[i].legend(loc=(0.1, 1.2),ncol=4)\n",
    "plt.subplots_adjust(wspace=0.1,hspace=0.05)\n",
    "plt.savefig('../paper_codes/step2_specificity.jpg', dpi= 400, bbox_inches = \"tight\")\n",
    "\n",
    "plt.show()\n"
   ]
  },
  {
   "cell_type": "markdown",
   "id": "6de27451",
   "metadata": {
    "pycharm": {
     "name": "#%% md\n"
    }
   },
   "source": [
    "## Step1"
   ]
  },
  {
   "cell_type": "code",
   "execution_count": 807,
   "id": "5c6543fa",
   "metadata": {
    "ExecuteTime": {
     "end_time": "2023-01-05T13:11:25.186700Z",
     "start_time": "2023-01-05T13:11:25.178058Z"
    },
    "pycharm": {
     "name": "#%%\n"
    }
   },
   "outputs": [],
   "source": [
    "fn = np.loadtxt('../results/1000/step1_fn.txt')\n",
    "tn = np.loadtxt('../results/1000/step1_tn.txt')"
   ]
  },
  {
   "cell_type": "code",
   "execution_count": 808,
   "id": "9f1ee919",
   "metadata": {
    "ExecuteTime": {
     "end_time": "2023-01-05T13:11:28.162167Z",
     "start_time": "2023-01-05T13:11:28.154607Z"
    },
    "pycharm": {
     "name": "#%%\n"
    }
   },
   "outputs": [
    {
     "data": {
      "text/plain": [
       "array([[57.6,  0. ,  0. ,  0. ,  0. ,  0. ],\n",
       "       [66. , 27. , 20. , 16.6, 13.4, 11.2],\n",
       "       [87.2, 66.8, 56. , 48. , 40. , 33.8]])"
      ]
     },
     "execution_count": 808,
     "metadata": {},
     "output_type": "execute_result"
    }
   ],
   "source": [
    "fn"
   ]
  },
  {
   "cell_type": "code",
   "execution_count": 809,
   "id": "e0786f48",
   "metadata": {
    "ExecuteTime": {
     "end_time": "2023-01-05T13:11:31.510797Z",
     "start_time": "2023-01-05T13:11:31.504084Z"
    },
    "pycharm": {
     "name": "#%%\n"
    }
   },
   "outputs": [
    {
     "data": {
      "text/plain": [
       "array([[9265.8, 7406.4, 6516. , 5702.8, 4941.4, 4273.8],\n",
       "       [8032. , 4383.8, 3553.6, 2942.2, 2464.8, 2065.4],\n",
       "       [9053.2, 6630.6, 5718.4, 4963.6, 4277.8, 3656.8]])"
      ]
     },
     "execution_count": 809,
     "metadata": {},
     "output_type": "execute_result"
    }
   ],
   "source": [
    "tn"
   ]
  },
  {
   "cell_type": "markdown",
   "id": "941bc6eb",
   "metadata": {
    "pycharm": {
     "name": "#%% md\n"
    }
   },
   "source": [
    "## OpenSNP data"
   ]
  },
  {
   "cell_type": "code",
   "execution_count": 869,
   "id": "4e041f34",
   "metadata": {
    "ExecuteTime": {
     "end_time": "2023-01-05T15:53:47.794547Z",
     "start_time": "2023-01-05T15:53:47.786962Z"
    },
    "pycharm": {
     "name": "#%%\n"
    }
   },
   "outputs": [],
   "source": [
    "iters = 5\n",
    "batch_size = [100, 200, 300]\n",
    "p_thre = [0.15, 0.2, 0.25, 0.3]\n",
    "seeds = [0, 100, 210, 970, 3506, 23525, 32451, 2466, 1242]"
   ]
  },
  {
   "cell_type": "code",
   "execution_count": 825,
   "id": "d2b4a83c",
   "metadata": {
    "ExecuteTime": {
     "end_time": "2023-01-05T13:22:16.774035Z",
     "start_time": "2023-01-05T13:22:16.760153Z"
    },
    "pycharm": {
     "name": "#%%\n"
    }
   },
   "outputs": [],
   "source": [
    "all_recall = np.zeros((1,12))\n",
    "all_pre = np.zeros((1,12))\n",
    "\n",
    "recall_list = np.argmax(recall, axis=1)\n",
    "pre_list = np.argmax(precision, axis=1)\n",
    "\n",
    "recall = np.loadtxt('../results/opensnp/' +'overall_recall.txt')\n",
    "precision = np.loadtxt('../results/opensnp' +'/overall_precision.txt')\n",
    "\n",
    "for i in range(12):\n",
    "    \n",
    "    all_recall[0,i] = recall[i,recall_list[i] ]\n",
    "    all_pre[0, i] = precision[i, pre_list[i]]\n",
    "\n",
    "    \n",
    "gwar_recall = np.loadtxt('../results/opensnp/gwar/overall_recall.txt')\n",
    "gwar_precesion =  np.loadtxt('../results/opensnp/gwar/overall_precision.txt')\n",
    "\n",
    "#all_recall = all_recall.transpose()\n",
    "#all_pre = all_pre.transpose()"
   ]
  }
 ],
 "metadata": {
  "kernelspec": {
   "display_name": "Python 3 (ipykernel)",
   "language": "python",
   "name": "python3"
  },
  "language_info": {
   "codemirror_mode": {
    "name": "ipython",
    "version": 3
   },
   "file_extension": ".py",
   "mimetype": "text/x-python",
   "name": "python",
   "nbconvert_exporter": "python",
   "pygments_lexer": "ipython3",
   "version": "3.8.13"
  },
  "toc": {
   "base_numbering": 1,
   "nav_menu": {},
   "number_sections": true,
   "sideBar": true,
   "skip_h1_title": false,
   "title_cell": "Table of Contents",
   "title_sidebar": "Contents",
   "toc_cell": false,
   "toc_position": {
    "height": "calc(100% - 180px)",
    "left": "10px",
    "top": "150px",
    "width": "220.998px"
   },
   "toc_section_display": true,
   "toc_window_display": true
  }
 },
 "nbformat": 4,
 "nbformat_minor": 5
}